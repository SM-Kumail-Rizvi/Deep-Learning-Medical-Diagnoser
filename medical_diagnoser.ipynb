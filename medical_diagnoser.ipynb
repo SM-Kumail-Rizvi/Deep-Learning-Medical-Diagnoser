{
  "cells": [
    {
      "cell_type": "markdown",
      "source": [
        "# **Medical Diagnoser: Predicting Diseases and Recommending Treatments**"
      ],
      "metadata": {
        "id": "c0tKSMY2EcLA"
      }
    },
    {
      "cell_type": "markdown",
      "metadata": {
        "id": "NuI2ueHJ2UyH"
      },
      "source": [
        "### **Importing Libraries**"
      ]
    },
    {
      "cell_type": "code",
      "execution_count": 18,
      "metadata": {
        "id": "JS7AZYFkEfGL"
      },
      "outputs": [],
      "source": [
        "import pandas as pd\n",
        "import numpy as np\n",
        "from tensorflow.keras.preprocessing.text import Tokenizer\n",
        "from tensorflow.keras.preprocessing.sequence import pad_sequences\n",
        "from tensorflow.keras.utils import to_categorical\n",
        "from sklearn.preprocessing import LabelEncoder\n",
        "from tensorflow.keras.models import Model\n",
        "from tensorflow.keras.layers import Input, Embedding, LSTM, Dense\n",
        "from sklearn.metrics import classification_report, confusion_matrix, accuracy_score\n"
      ]
    },
    {
      "cell_type": "code",
      "execution_count": 38,
      "metadata": {
        "colab": {
          "base_uri": "https://localhost:8080/"
        },
        "id": "iMZ5JbdYEfC9",
        "outputId": "e149a3aa-679f-4c7b-83da-e7550c578250"
      },
      "outputs": [
        {
          "output_type": "stream",
          "name": "stdout",
          "text": [
            "Requirement already satisfied: gradio in /usr/local/lib/python3.10/dist-packages (4.29.0)\n",
            "Requirement already satisfied: aiofiles<24.0,>=22.0 in /usr/local/lib/python3.10/dist-packages (from gradio) (23.2.1)\n",
            "Requirement already satisfied: altair<6.0,>=4.2.0 in /usr/local/lib/python3.10/dist-packages (from gradio) (4.2.2)\n",
            "Requirement already satisfied: fastapi in /usr/local/lib/python3.10/dist-packages (from gradio) (0.111.0)\n",
            "Requirement already satisfied: ffmpy in /usr/local/lib/python3.10/dist-packages (from gradio) (0.3.2)\n",
            "Requirement already satisfied: gradio-client==0.16.1 in /usr/local/lib/python3.10/dist-packages (from gradio) (0.16.1)\n",
            "Requirement already satisfied: httpx>=0.24.1 in /usr/local/lib/python3.10/dist-packages (from gradio) (0.27.0)\n",
            "Requirement already satisfied: huggingface-hub>=0.19.3 in /usr/local/lib/python3.10/dist-packages (from gradio) (0.20.3)\n",
            "Requirement already satisfied: importlib-resources<7.0,>=1.3 in /usr/local/lib/python3.10/dist-packages (from gradio) (6.4.0)\n",
            "Requirement already satisfied: jinja2<4.0 in /usr/local/lib/python3.10/dist-packages (from gradio) (3.1.3)\n",
            "Requirement already satisfied: markupsafe~=2.0 in /usr/local/lib/python3.10/dist-packages (from gradio) (2.1.5)\n",
            "Requirement already satisfied: matplotlib~=3.0 in /usr/local/lib/python3.10/dist-packages (from gradio) (3.7.1)\n",
            "Requirement already satisfied: numpy~=1.0 in /usr/local/lib/python3.10/dist-packages (from gradio) (1.25.2)\n",
            "Requirement already satisfied: orjson~=3.0 in /usr/local/lib/python3.10/dist-packages (from gradio) (3.10.3)\n",
            "Requirement already satisfied: packaging in /usr/local/lib/python3.10/dist-packages (from gradio) (24.0)\n",
            "Requirement already satisfied: pandas<3.0,>=1.0 in /usr/local/lib/python3.10/dist-packages (from gradio) (2.0.3)\n",
            "Requirement already satisfied: pillow<11.0,>=8.0 in /usr/local/lib/python3.10/dist-packages (from gradio) (9.4.0)\n",
            "Requirement already satisfied: pydantic>=2.0 in /usr/local/lib/python3.10/dist-packages (from gradio) (2.7.1)\n",
            "Requirement already satisfied: pydub in /usr/local/lib/python3.10/dist-packages (from gradio) (0.25.1)\n",
            "Requirement already satisfied: python-multipart>=0.0.9 in /usr/local/lib/python3.10/dist-packages (from gradio) (0.0.9)\n",
            "Requirement already satisfied: pyyaml<7.0,>=5.0 in /usr/local/lib/python3.10/dist-packages (from gradio) (6.0.1)\n",
            "Requirement already satisfied: ruff>=0.2.2 in /usr/local/lib/python3.10/dist-packages (from gradio) (0.4.3)\n",
            "Requirement already satisfied: semantic-version~=2.0 in /usr/local/lib/python3.10/dist-packages (from gradio) (2.10.0)\n",
            "Requirement already satisfied: tomlkit==0.12.0 in /usr/local/lib/python3.10/dist-packages (from gradio) (0.12.0)\n",
            "Requirement already satisfied: typer<1.0,>=0.12 in /usr/local/lib/python3.10/dist-packages (from gradio) (0.12.3)\n",
            "Requirement already satisfied: typing-extensions~=4.0 in /usr/local/lib/python3.10/dist-packages (from gradio) (4.11.0)\n",
            "Requirement already satisfied: urllib3~=2.0 in /usr/local/lib/python3.10/dist-packages (from gradio) (2.0.7)\n",
            "Requirement already satisfied: uvicorn>=0.14.0 in /usr/local/lib/python3.10/dist-packages (from gradio) (0.29.0)\n",
            "Requirement already satisfied: fsspec in /usr/local/lib/python3.10/dist-packages (from gradio-client==0.16.1->gradio) (2023.6.0)\n",
            "Requirement already satisfied: websockets<12.0,>=10.0 in /usr/local/lib/python3.10/dist-packages (from gradio-client==0.16.1->gradio) (11.0.3)\n",
            "Requirement already satisfied: entrypoints in /usr/local/lib/python3.10/dist-packages (from altair<6.0,>=4.2.0->gradio) (0.4)\n",
            "Requirement already satisfied: jsonschema>=3.0 in /usr/local/lib/python3.10/dist-packages (from altair<6.0,>=4.2.0->gradio) (4.19.2)\n",
            "Requirement already satisfied: toolz in /usr/local/lib/python3.10/dist-packages (from altair<6.0,>=4.2.0->gradio) (0.12.1)\n",
            "Requirement already satisfied: anyio in /usr/local/lib/python3.10/dist-packages (from httpx>=0.24.1->gradio) (3.7.1)\n",
            "Requirement already satisfied: certifi in /usr/local/lib/python3.10/dist-packages (from httpx>=0.24.1->gradio) (2024.2.2)\n",
            "Requirement already satisfied: httpcore==1.* in /usr/local/lib/python3.10/dist-packages (from httpx>=0.24.1->gradio) (1.0.5)\n",
            "Requirement already satisfied: idna in /usr/local/lib/python3.10/dist-packages (from httpx>=0.24.1->gradio) (3.7)\n",
            "Requirement already satisfied: sniffio in /usr/local/lib/python3.10/dist-packages (from httpx>=0.24.1->gradio) (1.3.1)\n",
            "Requirement already satisfied: h11<0.15,>=0.13 in /usr/local/lib/python3.10/dist-packages (from httpcore==1.*->httpx>=0.24.1->gradio) (0.14.0)\n",
            "Requirement already satisfied: filelock in /usr/local/lib/python3.10/dist-packages (from huggingface-hub>=0.19.3->gradio) (3.14.0)\n",
            "Requirement already satisfied: requests in /usr/local/lib/python3.10/dist-packages (from huggingface-hub>=0.19.3->gradio) (2.31.0)\n",
            "Requirement already satisfied: tqdm>=4.42.1 in /usr/local/lib/python3.10/dist-packages (from huggingface-hub>=0.19.3->gradio) (4.66.4)\n",
            "Requirement already satisfied: contourpy>=1.0.1 in /usr/local/lib/python3.10/dist-packages (from matplotlib~=3.0->gradio) (1.2.1)\n",
            "Requirement already satisfied: cycler>=0.10 in /usr/local/lib/python3.10/dist-packages (from matplotlib~=3.0->gradio) (0.12.1)\n",
            "Requirement already satisfied: fonttools>=4.22.0 in /usr/local/lib/python3.10/dist-packages (from matplotlib~=3.0->gradio) (4.51.0)\n",
            "Requirement already satisfied: kiwisolver>=1.0.1 in /usr/local/lib/python3.10/dist-packages (from matplotlib~=3.0->gradio) (1.4.5)\n",
            "Requirement already satisfied: pyparsing>=2.3.1 in /usr/local/lib/python3.10/dist-packages (from matplotlib~=3.0->gradio) (3.1.2)\n",
            "Requirement already satisfied: python-dateutil>=2.7 in /usr/local/lib/python3.10/dist-packages (from matplotlib~=3.0->gradio) (2.8.2)\n",
            "Requirement already satisfied: pytz>=2020.1 in /usr/local/lib/python3.10/dist-packages (from pandas<3.0,>=1.0->gradio) (2023.4)\n",
            "Requirement already satisfied: tzdata>=2022.1 in /usr/local/lib/python3.10/dist-packages (from pandas<3.0,>=1.0->gradio) (2024.1)\n",
            "Requirement already satisfied: annotated-types>=0.4.0 in /usr/local/lib/python3.10/dist-packages (from pydantic>=2.0->gradio) (0.6.0)\n",
            "Requirement already satisfied: pydantic-core==2.18.2 in /usr/local/lib/python3.10/dist-packages (from pydantic>=2.0->gradio) (2.18.2)\n",
            "Requirement already satisfied: click>=8.0.0 in /usr/local/lib/python3.10/dist-packages (from typer<1.0,>=0.12->gradio) (8.1.7)\n",
            "Requirement already satisfied: shellingham>=1.3.0 in /usr/local/lib/python3.10/dist-packages (from typer<1.0,>=0.12->gradio) (1.5.4)\n",
            "Requirement already satisfied: rich>=10.11.0 in /usr/local/lib/python3.10/dist-packages (from typer<1.0,>=0.12->gradio) (13.7.1)\n",
            "Requirement already satisfied: starlette<0.38.0,>=0.37.2 in /usr/local/lib/python3.10/dist-packages (from fastapi->gradio) (0.37.2)\n",
            "Requirement already satisfied: fastapi-cli>=0.0.2 in /usr/local/lib/python3.10/dist-packages (from fastapi->gradio) (0.0.3)\n",
            "Requirement already satisfied: ujson!=4.0.2,!=4.1.0,!=4.2.0,!=4.3.0,!=5.0.0,!=5.1.0,>=4.0.1 in /usr/local/lib/python3.10/dist-packages (from fastapi->gradio) (5.9.0)\n",
            "Requirement already satisfied: email_validator>=2.0.0 in /usr/local/lib/python3.10/dist-packages (from fastapi->gradio) (2.1.1)\n",
            "Requirement already satisfied: dnspython>=2.0.0 in /usr/local/lib/python3.10/dist-packages (from email_validator>=2.0.0->fastapi->gradio) (2.6.1)\n",
            "Requirement already satisfied: attrs>=22.2.0 in /usr/local/lib/python3.10/dist-packages (from jsonschema>=3.0->altair<6.0,>=4.2.0->gradio) (23.2.0)\n",
            "Requirement already satisfied: jsonschema-specifications>=2023.03.6 in /usr/local/lib/python3.10/dist-packages (from jsonschema>=3.0->altair<6.0,>=4.2.0->gradio) (2023.12.1)\n",
            "Requirement already satisfied: referencing>=0.28.4 in /usr/local/lib/python3.10/dist-packages (from jsonschema>=3.0->altair<6.0,>=4.2.0->gradio) (0.35.1)\n",
            "Requirement already satisfied: rpds-py>=0.7.1 in /usr/local/lib/python3.10/dist-packages (from jsonschema>=3.0->altair<6.0,>=4.2.0->gradio) (0.18.0)\n",
            "Requirement already satisfied: six>=1.5 in /usr/local/lib/python3.10/dist-packages (from python-dateutil>=2.7->matplotlib~=3.0->gradio) (1.16.0)\n",
            "Requirement already satisfied: markdown-it-py>=2.2.0 in /usr/local/lib/python3.10/dist-packages (from rich>=10.11.0->typer<1.0,>=0.12->gradio) (3.0.0)\n",
            "Requirement already satisfied: pygments<3.0.0,>=2.13.0 in /usr/local/lib/python3.10/dist-packages (from rich>=10.11.0->typer<1.0,>=0.12->gradio) (2.16.1)\n",
            "Requirement already satisfied: exceptiongroup in /usr/local/lib/python3.10/dist-packages (from anyio->httpx>=0.24.1->gradio) (1.2.1)\n",
            "Requirement already satisfied: httptools>=0.5.0 in /usr/local/lib/python3.10/dist-packages (from uvicorn>=0.14.0->gradio) (0.6.1)\n",
            "Requirement already satisfied: python-dotenv>=0.13 in /usr/local/lib/python3.10/dist-packages (from uvicorn>=0.14.0->gradio) (1.0.1)\n",
            "Requirement already satisfied: uvloop!=0.15.0,!=0.15.1,>=0.14.0 in /usr/local/lib/python3.10/dist-packages (from uvicorn>=0.14.0->gradio) (0.19.0)\n",
            "Requirement already satisfied: watchfiles>=0.13 in /usr/local/lib/python3.10/dist-packages (from uvicorn>=0.14.0->gradio) (0.21.0)\n",
            "Requirement already satisfied: charset-normalizer<4,>=2 in /usr/local/lib/python3.10/dist-packages (from requests->huggingface-hub>=0.19.3->gradio) (3.3.2)\n",
            "Requirement already satisfied: mdurl~=0.1 in /usr/local/lib/python3.10/dist-packages (from markdown-it-py>=2.2.0->rich>=10.11.0->typer<1.0,>=0.12->gradio) (0.1.2)\n"
          ]
        }
      ],
      "source": [
        "!pip install gradio"
      ]
    },
    {
      "cell_type": "code",
      "execution_count": 39,
      "metadata": {
        "colab": {
          "base_uri": "https://localhost:8080/"
        },
        "id": "xXv7Y3W9fs35",
        "outputId": "3c53a3c3-59b8-4456-8e53-ea169ad3ac10"
      },
      "outputs": [
        {
          "output_type": "stream",
          "name": "stdout",
          "text": [
            "Requirement already satisfied: gradio in /usr/local/lib/python3.10/dist-packages (4.29.0)\n",
            "Requirement already satisfied: aiofiles<24.0,>=22.0 in /usr/local/lib/python3.10/dist-packages (from gradio) (23.2.1)\n",
            "Requirement already satisfied: altair<6.0,>=4.2.0 in /usr/local/lib/python3.10/dist-packages (from gradio) (4.2.2)\n",
            "Requirement already satisfied: fastapi in /usr/local/lib/python3.10/dist-packages (from gradio) (0.111.0)\n",
            "Requirement already satisfied: ffmpy in /usr/local/lib/python3.10/dist-packages (from gradio) (0.3.2)\n",
            "Requirement already satisfied: gradio-client==0.16.1 in /usr/local/lib/python3.10/dist-packages (from gradio) (0.16.1)\n",
            "Requirement already satisfied: httpx>=0.24.1 in /usr/local/lib/python3.10/dist-packages (from gradio) (0.27.0)\n",
            "Requirement already satisfied: huggingface-hub>=0.19.3 in /usr/local/lib/python3.10/dist-packages (from gradio) (0.20.3)\n",
            "Requirement already satisfied: importlib-resources<7.0,>=1.3 in /usr/local/lib/python3.10/dist-packages (from gradio) (6.4.0)\n",
            "Requirement already satisfied: jinja2<4.0 in /usr/local/lib/python3.10/dist-packages (from gradio) (3.1.3)\n",
            "Requirement already satisfied: markupsafe~=2.0 in /usr/local/lib/python3.10/dist-packages (from gradio) (2.1.5)\n",
            "Requirement already satisfied: matplotlib~=3.0 in /usr/local/lib/python3.10/dist-packages (from gradio) (3.7.1)\n",
            "Requirement already satisfied: numpy~=1.0 in /usr/local/lib/python3.10/dist-packages (from gradio) (1.25.2)\n",
            "Requirement already satisfied: orjson~=3.0 in /usr/local/lib/python3.10/dist-packages (from gradio) (3.10.3)\n",
            "Requirement already satisfied: packaging in /usr/local/lib/python3.10/dist-packages (from gradio) (24.0)\n",
            "Requirement already satisfied: pandas<3.0,>=1.0 in /usr/local/lib/python3.10/dist-packages (from gradio) (2.0.3)\n",
            "Requirement already satisfied: pillow<11.0,>=8.0 in /usr/local/lib/python3.10/dist-packages (from gradio) (9.4.0)\n",
            "Requirement already satisfied: pydantic>=2.0 in /usr/local/lib/python3.10/dist-packages (from gradio) (2.7.1)\n",
            "Requirement already satisfied: pydub in /usr/local/lib/python3.10/dist-packages (from gradio) (0.25.1)\n",
            "Requirement already satisfied: python-multipart>=0.0.9 in /usr/local/lib/python3.10/dist-packages (from gradio) (0.0.9)\n",
            "Requirement already satisfied: pyyaml<7.0,>=5.0 in /usr/local/lib/python3.10/dist-packages (from gradio) (6.0.1)\n",
            "Requirement already satisfied: ruff>=0.2.2 in /usr/local/lib/python3.10/dist-packages (from gradio) (0.4.3)\n",
            "Requirement already satisfied: semantic-version~=2.0 in /usr/local/lib/python3.10/dist-packages (from gradio) (2.10.0)\n",
            "Requirement already satisfied: tomlkit==0.12.0 in /usr/local/lib/python3.10/dist-packages (from gradio) (0.12.0)\n",
            "Requirement already satisfied: typer<1.0,>=0.12 in /usr/local/lib/python3.10/dist-packages (from gradio) (0.12.3)\n",
            "Requirement already satisfied: typing-extensions~=4.0 in /usr/local/lib/python3.10/dist-packages (from gradio) (4.11.0)\n",
            "Requirement already satisfied: urllib3~=2.0 in /usr/local/lib/python3.10/dist-packages (from gradio) (2.0.7)\n",
            "Requirement already satisfied: uvicorn>=0.14.0 in /usr/local/lib/python3.10/dist-packages (from gradio) (0.29.0)\n",
            "Requirement already satisfied: fsspec in /usr/local/lib/python3.10/dist-packages (from gradio-client==0.16.1->gradio) (2023.6.0)\n",
            "Requirement already satisfied: websockets<12.0,>=10.0 in /usr/local/lib/python3.10/dist-packages (from gradio-client==0.16.1->gradio) (11.0.3)\n",
            "Requirement already satisfied: entrypoints in /usr/local/lib/python3.10/dist-packages (from altair<6.0,>=4.2.0->gradio) (0.4)\n",
            "Requirement already satisfied: jsonschema>=3.0 in /usr/local/lib/python3.10/dist-packages (from altair<6.0,>=4.2.0->gradio) (4.19.2)\n",
            "Requirement already satisfied: toolz in /usr/local/lib/python3.10/dist-packages (from altair<6.0,>=4.2.0->gradio) (0.12.1)\n",
            "Requirement already satisfied: anyio in /usr/local/lib/python3.10/dist-packages (from httpx>=0.24.1->gradio) (3.7.1)\n",
            "Requirement already satisfied: certifi in /usr/local/lib/python3.10/dist-packages (from httpx>=0.24.1->gradio) (2024.2.2)\n",
            "Requirement already satisfied: httpcore==1.* in /usr/local/lib/python3.10/dist-packages (from httpx>=0.24.1->gradio) (1.0.5)\n",
            "Requirement already satisfied: idna in /usr/local/lib/python3.10/dist-packages (from httpx>=0.24.1->gradio) (3.7)\n",
            "Requirement already satisfied: sniffio in /usr/local/lib/python3.10/dist-packages (from httpx>=0.24.1->gradio) (1.3.1)\n",
            "Requirement already satisfied: h11<0.15,>=0.13 in /usr/local/lib/python3.10/dist-packages (from httpcore==1.*->httpx>=0.24.1->gradio) (0.14.0)\n",
            "Requirement already satisfied: filelock in /usr/local/lib/python3.10/dist-packages (from huggingface-hub>=0.19.3->gradio) (3.14.0)\n",
            "Requirement already satisfied: requests in /usr/local/lib/python3.10/dist-packages (from huggingface-hub>=0.19.3->gradio) (2.31.0)\n",
            "Requirement already satisfied: tqdm>=4.42.1 in /usr/local/lib/python3.10/dist-packages (from huggingface-hub>=0.19.3->gradio) (4.66.4)\n",
            "Requirement already satisfied: contourpy>=1.0.1 in /usr/local/lib/python3.10/dist-packages (from matplotlib~=3.0->gradio) (1.2.1)\n",
            "Requirement already satisfied: cycler>=0.10 in /usr/local/lib/python3.10/dist-packages (from matplotlib~=3.0->gradio) (0.12.1)\n",
            "Requirement already satisfied: fonttools>=4.22.0 in /usr/local/lib/python3.10/dist-packages (from matplotlib~=3.0->gradio) (4.51.0)\n",
            "Requirement already satisfied: kiwisolver>=1.0.1 in /usr/local/lib/python3.10/dist-packages (from matplotlib~=3.0->gradio) (1.4.5)\n",
            "Requirement already satisfied: pyparsing>=2.3.1 in /usr/local/lib/python3.10/dist-packages (from matplotlib~=3.0->gradio) (3.1.2)\n",
            "Requirement already satisfied: python-dateutil>=2.7 in /usr/local/lib/python3.10/dist-packages (from matplotlib~=3.0->gradio) (2.8.2)\n",
            "Requirement already satisfied: pytz>=2020.1 in /usr/local/lib/python3.10/dist-packages (from pandas<3.0,>=1.0->gradio) (2023.4)\n",
            "Requirement already satisfied: tzdata>=2022.1 in /usr/local/lib/python3.10/dist-packages (from pandas<3.0,>=1.0->gradio) (2024.1)\n",
            "Requirement already satisfied: annotated-types>=0.4.0 in /usr/local/lib/python3.10/dist-packages (from pydantic>=2.0->gradio) (0.6.0)\n",
            "Requirement already satisfied: pydantic-core==2.18.2 in /usr/local/lib/python3.10/dist-packages (from pydantic>=2.0->gradio) (2.18.2)\n",
            "Requirement already satisfied: click>=8.0.0 in /usr/local/lib/python3.10/dist-packages (from typer<1.0,>=0.12->gradio) (8.1.7)\n",
            "Requirement already satisfied: shellingham>=1.3.0 in /usr/local/lib/python3.10/dist-packages (from typer<1.0,>=0.12->gradio) (1.5.4)\n",
            "Requirement already satisfied: rich>=10.11.0 in /usr/local/lib/python3.10/dist-packages (from typer<1.0,>=0.12->gradio) (13.7.1)\n",
            "Requirement already satisfied: starlette<0.38.0,>=0.37.2 in /usr/local/lib/python3.10/dist-packages (from fastapi->gradio) (0.37.2)\n",
            "Requirement already satisfied: fastapi-cli>=0.0.2 in /usr/local/lib/python3.10/dist-packages (from fastapi->gradio) (0.0.3)\n",
            "Requirement already satisfied: ujson!=4.0.2,!=4.1.0,!=4.2.0,!=4.3.0,!=5.0.0,!=5.1.0,>=4.0.1 in /usr/local/lib/python3.10/dist-packages (from fastapi->gradio) (5.9.0)\n",
            "Requirement already satisfied: email_validator>=2.0.0 in /usr/local/lib/python3.10/dist-packages (from fastapi->gradio) (2.1.1)\n",
            "Requirement already satisfied: dnspython>=2.0.0 in /usr/local/lib/python3.10/dist-packages (from email_validator>=2.0.0->fastapi->gradio) (2.6.1)\n",
            "Requirement already satisfied: attrs>=22.2.0 in /usr/local/lib/python3.10/dist-packages (from jsonschema>=3.0->altair<6.0,>=4.2.0->gradio) (23.2.0)\n",
            "Requirement already satisfied: jsonschema-specifications>=2023.03.6 in /usr/local/lib/python3.10/dist-packages (from jsonschema>=3.0->altair<6.0,>=4.2.0->gradio) (2023.12.1)\n",
            "Requirement already satisfied: referencing>=0.28.4 in /usr/local/lib/python3.10/dist-packages (from jsonschema>=3.0->altair<6.0,>=4.2.0->gradio) (0.35.1)\n",
            "Requirement already satisfied: rpds-py>=0.7.1 in /usr/local/lib/python3.10/dist-packages (from jsonschema>=3.0->altair<6.0,>=4.2.0->gradio) (0.18.0)\n",
            "Requirement already satisfied: six>=1.5 in /usr/local/lib/python3.10/dist-packages (from python-dateutil>=2.7->matplotlib~=3.0->gradio) (1.16.0)\n",
            "Requirement already satisfied: markdown-it-py>=2.2.0 in /usr/local/lib/python3.10/dist-packages (from rich>=10.11.0->typer<1.0,>=0.12->gradio) (3.0.0)\n",
            "Requirement already satisfied: pygments<3.0.0,>=2.13.0 in /usr/local/lib/python3.10/dist-packages (from rich>=10.11.0->typer<1.0,>=0.12->gradio) (2.16.1)\n",
            "Requirement already satisfied: exceptiongroup in /usr/local/lib/python3.10/dist-packages (from anyio->httpx>=0.24.1->gradio) (1.2.1)\n",
            "Requirement already satisfied: httptools>=0.5.0 in /usr/local/lib/python3.10/dist-packages (from uvicorn>=0.14.0->gradio) (0.6.1)\n",
            "Requirement already satisfied: python-dotenv>=0.13 in /usr/local/lib/python3.10/dist-packages (from uvicorn>=0.14.0->gradio) (1.0.1)\n",
            "Requirement already satisfied: uvloop!=0.15.0,!=0.15.1,>=0.14.0 in /usr/local/lib/python3.10/dist-packages (from uvicorn>=0.14.0->gradio) (0.19.0)\n",
            "Requirement already satisfied: watchfiles>=0.13 in /usr/local/lib/python3.10/dist-packages (from uvicorn>=0.14.0->gradio) (0.21.0)\n",
            "Requirement already satisfied: charset-normalizer<4,>=2 in /usr/local/lib/python3.10/dist-packages (from requests->huggingface-hub>=0.19.3->gradio) (3.3.2)\n",
            "Requirement already satisfied: mdurl~=0.1 in /usr/local/lib/python3.10/dist-packages (from markdown-it-py>=2.2.0->rich>=10.11.0->typer<1.0,>=0.12->gradio) (0.1.2)\n"
          ]
        }
      ],
      "source": [
        "!pip install -U gradio"
      ]
    },
    {
      "cell_type": "markdown",
      "metadata": {
        "id": "_qOrKjfU2a8C"
      },
      "source": [
        "### **Loading the Dataset**"
      ]
    },
    {
      "cell_type": "code",
      "execution_count": 23,
      "metadata": {
        "colab": {
          "base_uri": "https://localhost:8080/",
          "height": 206
        },
        "id": "FewJ42mLEe_7",
        "outputId": "6d391ba6-a46c-450c-db98-5432007ca77e"
      },
      "outputs": [
        {
          "output_type": "execute_result",
          "data": {
            "text/plain": [
              "                                     Patient_Problem  \\\n",
              "0  Constant fatigue and muscle weakness, struggli...   \n",
              "1  Frequent severe migraines, sensitivity to ligh...   \n",
              "2  Sudden weight gain and feeling cold, especiall...   \n",
              "3  High fever, sore throat, and swollen lymph nod...   \n",
              "4  Excessive thirst and frequent urination, dry m...   \n",
              "\n",
              "                    Disease                                       Prescription  \n",
              "0  Chronic Fatigue Syndrome  Cognitive behavioral therapy, graded exercise ...  \n",
              "1        Migraine with Aura  Prescription triptans, avoid triggers like bri...  \n",
              "2            Hypothyroidism  Levothyroxine to regulate thyroid hormone levels.  \n",
              "3             Mononucleosis            Rest and hydration, ibuprofen for pain.  \n",
              "4         Diabetes Mellitus             Insulin therapy and lifestyle changes.  "
            ],
            "text/html": [
              "\n",
              "  <div id=\"df-6157d044-fc37-4200-9c61-7b8969f286be\" class=\"colab-df-container\">\n",
              "    <div>\n",
              "<style scoped>\n",
              "    .dataframe tbody tr th:only-of-type {\n",
              "        vertical-align: middle;\n",
              "    }\n",
              "\n",
              "    .dataframe tbody tr th {\n",
              "        vertical-align: top;\n",
              "    }\n",
              "\n",
              "    .dataframe thead th {\n",
              "        text-align: right;\n",
              "    }\n",
              "</style>\n",
              "<table border=\"1\" class=\"dataframe\">\n",
              "  <thead>\n",
              "    <tr style=\"text-align: right;\">\n",
              "      <th></th>\n",
              "      <th>Patient_Problem</th>\n",
              "      <th>Disease</th>\n",
              "      <th>Prescription</th>\n",
              "    </tr>\n",
              "  </thead>\n",
              "  <tbody>\n",
              "    <tr>\n",
              "      <th>0</th>\n",
              "      <td>Constant fatigue and muscle weakness, struggli...</td>\n",
              "      <td>Chronic Fatigue Syndrome</td>\n",
              "      <td>Cognitive behavioral therapy, graded exercise ...</td>\n",
              "    </tr>\n",
              "    <tr>\n",
              "      <th>1</th>\n",
              "      <td>Frequent severe migraines, sensitivity to ligh...</td>\n",
              "      <td>Migraine with Aura</td>\n",
              "      <td>Prescription triptans, avoid triggers like bri...</td>\n",
              "    </tr>\n",
              "    <tr>\n",
              "      <th>2</th>\n",
              "      <td>Sudden weight gain and feeling cold, especiall...</td>\n",
              "      <td>Hypothyroidism</td>\n",
              "      <td>Levothyroxine to regulate thyroid hormone levels.</td>\n",
              "    </tr>\n",
              "    <tr>\n",
              "      <th>3</th>\n",
              "      <td>High fever, sore throat, and swollen lymph nod...</td>\n",
              "      <td>Mononucleosis</td>\n",
              "      <td>Rest and hydration, ibuprofen for pain.</td>\n",
              "    </tr>\n",
              "    <tr>\n",
              "      <th>4</th>\n",
              "      <td>Excessive thirst and frequent urination, dry m...</td>\n",
              "      <td>Diabetes Mellitus</td>\n",
              "      <td>Insulin therapy and lifestyle changes.</td>\n",
              "    </tr>\n",
              "  </tbody>\n",
              "</table>\n",
              "</div>\n",
              "    <div class=\"colab-df-buttons\">\n",
              "\n",
              "  <div class=\"colab-df-container\">\n",
              "    <button class=\"colab-df-convert\" onclick=\"convertToInteractive('df-6157d044-fc37-4200-9c61-7b8969f286be')\"\n",
              "            title=\"Convert this dataframe to an interactive table.\"\n",
              "            style=\"display:none;\">\n",
              "\n",
              "  <svg xmlns=\"http://www.w3.org/2000/svg\" height=\"24px\" viewBox=\"0 -960 960 960\">\n",
              "    <path d=\"M120-120v-720h720v720H120Zm60-500h600v-160H180v160Zm220 220h160v-160H400v160Zm0 220h160v-160H400v160ZM180-400h160v-160H180v160Zm440 0h160v-160H620v160ZM180-180h160v-160H180v160Zm440 0h160v-160H620v160Z\"/>\n",
              "  </svg>\n",
              "    </button>\n",
              "\n",
              "  <style>\n",
              "    .colab-df-container {\n",
              "      display:flex;\n",
              "      gap: 12px;\n",
              "    }\n",
              "\n",
              "    .colab-df-convert {\n",
              "      background-color: #E8F0FE;\n",
              "      border: none;\n",
              "      border-radius: 50%;\n",
              "      cursor: pointer;\n",
              "      display: none;\n",
              "      fill: #1967D2;\n",
              "      height: 32px;\n",
              "      padding: 0 0 0 0;\n",
              "      width: 32px;\n",
              "    }\n",
              "\n",
              "    .colab-df-convert:hover {\n",
              "      background-color: #E2EBFA;\n",
              "      box-shadow: 0px 1px 2px rgba(60, 64, 67, 0.3), 0px 1px 3px 1px rgba(60, 64, 67, 0.15);\n",
              "      fill: #174EA6;\n",
              "    }\n",
              "\n",
              "    .colab-df-buttons div {\n",
              "      margin-bottom: 4px;\n",
              "    }\n",
              "\n",
              "    [theme=dark] .colab-df-convert {\n",
              "      background-color: #3B4455;\n",
              "      fill: #D2E3FC;\n",
              "    }\n",
              "\n",
              "    [theme=dark] .colab-df-convert:hover {\n",
              "      background-color: #434B5C;\n",
              "      box-shadow: 0px 1px 3px 1px rgba(0, 0, 0, 0.15);\n",
              "      filter: drop-shadow(0px 1px 2px rgba(0, 0, 0, 0.3));\n",
              "      fill: #FFFFFF;\n",
              "    }\n",
              "  </style>\n",
              "\n",
              "    <script>\n",
              "      const buttonEl =\n",
              "        document.querySelector('#df-6157d044-fc37-4200-9c61-7b8969f286be button.colab-df-convert');\n",
              "      buttonEl.style.display =\n",
              "        google.colab.kernel.accessAllowed ? 'block' : 'none';\n",
              "\n",
              "      async function convertToInteractive(key) {\n",
              "        const element = document.querySelector('#df-6157d044-fc37-4200-9c61-7b8969f286be');\n",
              "        const dataTable =\n",
              "          await google.colab.kernel.invokeFunction('convertToInteractive',\n",
              "                                                    [key], {});\n",
              "        if (!dataTable) return;\n",
              "\n",
              "        const docLinkHtml = 'Like what you see? Visit the ' +\n",
              "          '<a target=\"_blank\" href=https://colab.research.google.com/notebooks/data_table.ipynb>data table notebook</a>'\n",
              "          + ' to learn more about interactive tables.';\n",
              "        element.innerHTML = '';\n",
              "        dataTable['output_type'] = 'display_data';\n",
              "        await google.colab.output.renderOutput(dataTable, element);\n",
              "        const docLink = document.createElement('div');\n",
              "        docLink.innerHTML = docLinkHtml;\n",
              "        element.appendChild(docLink);\n",
              "      }\n",
              "    </script>\n",
              "  </div>\n",
              "\n",
              "\n",
              "<div id=\"df-ba4a032d-e9c7-4c3b-8474-14c4abbfc755\">\n",
              "  <button class=\"colab-df-quickchart\" onclick=\"quickchart('df-ba4a032d-e9c7-4c3b-8474-14c4abbfc755')\"\n",
              "            title=\"Suggest charts\"\n",
              "            style=\"display:none;\">\n",
              "\n",
              "<svg xmlns=\"http://www.w3.org/2000/svg\" height=\"24px\"viewBox=\"0 0 24 24\"\n",
              "     width=\"24px\">\n",
              "    <g>\n",
              "        <path d=\"M19 3H5c-1.1 0-2 .9-2 2v14c0 1.1.9 2 2 2h14c1.1 0 2-.9 2-2V5c0-1.1-.9-2-2-2zM9 17H7v-7h2v7zm4 0h-2V7h2v10zm4 0h-2v-4h2v4z\"/>\n",
              "    </g>\n",
              "</svg>\n",
              "  </button>\n",
              "\n",
              "<style>\n",
              "  .colab-df-quickchart {\n",
              "      --bg-color: #E8F0FE;\n",
              "      --fill-color: #1967D2;\n",
              "      --hover-bg-color: #E2EBFA;\n",
              "      --hover-fill-color: #174EA6;\n",
              "      --disabled-fill-color: #AAA;\n",
              "      --disabled-bg-color: #DDD;\n",
              "  }\n",
              "\n",
              "  [theme=dark] .colab-df-quickchart {\n",
              "      --bg-color: #3B4455;\n",
              "      --fill-color: #D2E3FC;\n",
              "      --hover-bg-color: #434B5C;\n",
              "      --hover-fill-color: #FFFFFF;\n",
              "      --disabled-bg-color: #3B4455;\n",
              "      --disabled-fill-color: #666;\n",
              "  }\n",
              "\n",
              "  .colab-df-quickchart {\n",
              "    background-color: var(--bg-color);\n",
              "    border: none;\n",
              "    border-radius: 50%;\n",
              "    cursor: pointer;\n",
              "    display: none;\n",
              "    fill: var(--fill-color);\n",
              "    height: 32px;\n",
              "    padding: 0;\n",
              "    width: 32px;\n",
              "  }\n",
              "\n",
              "  .colab-df-quickchart:hover {\n",
              "    background-color: var(--hover-bg-color);\n",
              "    box-shadow: 0 1px 2px rgba(60, 64, 67, 0.3), 0 1px 3px 1px rgba(60, 64, 67, 0.15);\n",
              "    fill: var(--button-hover-fill-color);\n",
              "  }\n",
              "\n",
              "  .colab-df-quickchart-complete:disabled,\n",
              "  .colab-df-quickchart-complete:disabled:hover {\n",
              "    background-color: var(--disabled-bg-color);\n",
              "    fill: var(--disabled-fill-color);\n",
              "    box-shadow: none;\n",
              "  }\n",
              "\n",
              "  .colab-df-spinner {\n",
              "    border: 2px solid var(--fill-color);\n",
              "    border-color: transparent;\n",
              "    border-bottom-color: var(--fill-color);\n",
              "    animation:\n",
              "      spin 1s steps(1) infinite;\n",
              "  }\n",
              "\n",
              "  @keyframes spin {\n",
              "    0% {\n",
              "      border-color: transparent;\n",
              "      border-bottom-color: var(--fill-color);\n",
              "      border-left-color: var(--fill-color);\n",
              "    }\n",
              "    20% {\n",
              "      border-color: transparent;\n",
              "      border-left-color: var(--fill-color);\n",
              "      border-top-color: var(--fill-color);\n",
              "    }\n",
              "    30% {\n",
              "      border-color: transparent;\n",
              "      border-left-color: var(--fill-color);\n",
              "      border-top-color: var(--fill-color);\n",
              "      border-right-color: var(--fill-color);\n",
              "    }\n",
              "    40% {\n",
              "      border-color: transparent;\n",
              "      border-right-color: var(--fill-color);\n",
              "      border-top-color: var(--fill-color);\n",
              "    }\n",
              "    60% {\n",
              "      border-color: transparent;\n",
              "      border-right-color: var(--fill-color);\n",
              "    }\n",
              "    80% {\n",
              "      border-color: transparent;\n",
              "      border-right-color: var(--fill-color);\n",
              "      border-bottom-color: var(--fill-color);\n",
              "    }\n",
              "    90% {\n",
              "      border-color: transparent;\n",
              "      border-bottom-color: var(--fill-color);\n",
              "    }\n",
              "  }\n",
              "</style>\n",
              "\n",
              "  <script>\n",
              "    async function quickchart(key) {\n",
              "      const quickchartButtonEl =\n",
              "        document.querySelector('#' + key + ' button');\n",
              "      quickchartButtonEl.disabled = true;  // To prevent multiple clicks.\n",
              "      quickchartButtonEl.classList.add('colab-df-spinner');\n",
              "      try {\n",
              "        const charts = await google.colab.kernel.invokeFunction(\n",
              "            'suggestCharts', [key], {});\n",
              "      } catch (error) {\n",
              "        console.error('Error during call to suggestCharts:', error);\n",
              "      }\n",
              "      quickchartButtonEl.classList.remove('colab-df-spinner');\n",
              "      quickchartButtonEl.classList.add('colab-df-quickchart-complete');\n",
              "    }\n",
              "    (() => {\n",
              "      let quickchartButtonEl =\n",
              "        document.querySelector('#df-ba4a032d-e9c7-4c3b-8474-14c4abbfc755 button');\n",
              "      quickchartButtonEl.style.display =\n",
              "        google.colab.kernel.accessAllowed ? 'block' : 'none';\n",
              "    })();\n",
              "  </script>\n",
              "</div>\n",
              "\n",
              "    </div>\n",
              "  </div>\n"
            ],
            "application/vnd.google.colaboratory.intrinsic+json": {
              "type": "dataframe",
              "variable_name": "data",
              "summary": "{\n  \"name\": \"data\",\n  \"rows\": 407,\n  \"fields\": [\n    {\n      \"column\": \"Patient_Problem\",\n      \"properties\": {\n        \"dtype\": \"string\",\n        \"num_unique_values\": 407,\n        \"samples\": [\n          \"Excessive sweating even in cool temperatures.\",\n          \"I've noticed blood in my stool and unexplained abdominal pain.\",\n          \"Experiencing memory lapses and difficulty concentrating on daily tasks.\"\n        ],\n        \"semantic_type\": \"\",\n        \"description\": \"\"\n      }\n    },\n    {\n      \"column\": \"Disease\",\n      \"properties\": {\n        \"dtype\": \"category\",\n        \"num_unique_values\": 178,\n        \"samples\": [\n          \"Early Onset Dementia\",\n          \"Streptococcal Pharyngitis\",\n          \"Uveitis\"\n        ],\n        \"semantic_type\": \"\",\n        \"description\": \"\"\n      }\n    },\n    {\n      \"column\": \"Prescription\",\n      \"properties\": {\n        \"dtype\": \"string\",\n        \"num_unique_values\": 388,\n        \"samples\": [\n          \"Regular eye exams; consider anti-VEGF therapy.\",\n          \"Balanced diet; regular exercise; CBT for mental health.\",\n          \"Adopt good sleep hygiene; consider melatonin supplements.\"\n        ],\n        \"semantic_type\": \"\",\n        \"description\": \"\"\n      }\n    }\n  ]\n}"
            }
          },
          "metadata": {},
          "execution_count": 23
        }
      ],
      "source": [
        "data = pd.read_csv('https://raw.githubusercontent.com/adil200/Medical-Diagnoser/main/medical_data.csv')\n",
        "data.head()\n"
      ]
    },
    {
      "cell_type": "markdown",
      "source": [
        "### **EDA of Data Features**"
      ],
      "metadata": {
        "id": "QzdebuREDYg4"
      }
    },
    {
      "cell_type": "code",
      "execution_count": 24,
      "metadata": {
        "colab": {
          "base_uri": "https://localhost:8080/"
        },
        "id": "F5lpqcJEEe9B",
        "outputId": "6b37d426-9fc4-447d-cd56-c1f9455799ef"
      },
      "outputs": [
        {
          "output_type": "execute_result",
          "data": {
            "text/plain": [
              "0         Chronic Fatigue Syndrome\n",
              "1               Migraine with Aura\n",
              "2                   Hypothyroidism\n",
              "3                    Mononucleosis\n",
              "4                Diabetes Mellitus\n",
              "                  ...             \n",
              "402          Androgenetic Alopecia\n",
              "403                 Conjunctivitis\n",
              "404                         Stroke\n",
              "405    Eustachian Tube Dysfunction\n",
              "406              Colorectal Cancer\n",
              "Name: Disease, Length: 407, dtype: object"
            ]
          },
          "metadata": {},
          "execution_count": 24
        }
      ],
      "source": [
        "data['Disease']"
      ]
    },
    {
      "cell_type": "code",
      "execution_count": 46,
      "metadata": {
        "id": "4s2NNbIkl06I",
        "colab": {
          "base_uri": "https://localhost:8080/"
        },
        "outputId": "4a763b10-a5b3-4d8e-c218-49e84aa2fde1"
      },
      "outputs": [
        {
          "output_type": "execute_result",
          "data": {
            "text/plain": [
              "0      Constant fatigue and muscle weakness, struggli...\n",
              "1      Frequent severe migraines, sensitivity to ligh...\n",
              "2      Sudden weight gain and feeling cold, especiall...\n",
              "3      High fever, sore throat, and swollen lymph nod...\n",
              "4      Excessive thirst and frequent urination, dry m...\n",
              "                             ...                        \n",
              "402    Noticeable thinning of the hair on the top of ...\n",
              "403    Greenish discharge from the eyes, accompanied ...\n",
              "404    Experiencing confusion, difficulty speaking, a...\n",
              "405    Constant feeling of fullness in the ears and h...\n",
              "406    Blood in stool, along with a change in bowel m...\n",
              "Name: Patient_Problem, Length: 407, dtype: object"
            ]
          },
          "metadata": {},
          "execution_count": 46
        }
      ],
      "source": [
        "data['Patient_Problem']"
      ]
    },
    {
      "cell_type": "code",
      "execution_count": 47,
      "metadata": {
        "id": "TdDUz_CWl02y",
        "colab": {
          "base_uri": "https://localhost:8080/"
        },
        "outputId": "b51d8e2a-bcb2-4ae0-92a3-b526ff4f03ad"
      },
      "outputs": [
        {
          "output_type": "execute_result",
          "data": {
            "text/plain": [
              "0      Cognitive behavioral therapy, graded exercise ...\n",
              "1      Prescription triptans, avoid triggers like bri...\n",
              "2      Levothyroxine to regulate thyroid hormone levels.\n",
              "3                Rest and hydration, ibuprofen for pain.\n",
              "4                 Insulin therapy and lifestyle changes.\n",
              "                             ...                        \n",
              "402                    Minoxidil, finasteride for males.\n",
              "403               Antibiotic or antihistamine eye drops.\n",
              "404     Immediate medical attention, clot-busting drugs.\n",
              "405             Nasal steroids, autoinflation exercises.\n",
              "406      Colonoscopy, potentially surgery, chemotherapy.\n",
              "Name: Prescription, Length: 407, dtype: object"
            ]
          },
          "metadata": {},
          "execution_count": 47
        }
      ],
      "source": [
        "data['Prescription']"
      ]
    },
    {
      "cell_type": "markdown",
      "metadata": {
        "id": "ZrAyElxy2ij7"
      },
      "source": [
        "### **Tokenizing and Sequencing Text Data**"
      ]
    },
    {
      "cell_type": "code",
      "execution_count": 25,
      "metadata": {
        "id": "Z9Hl7VL0Ee56"
      },
      "outputs": [],
      "source": [
        "tokenizer = Tokenizer(num_words=5000, oov_token=\"<OOV>\")\n",
        "tokenizer.fit_on_texts(data['Patient_Problem'])\n",
        "\n",
        "sequences = tokenizer.texts_to_sequences(data['Patient_Problem'])\n"
      ]
    },
    {
      "cell_type": "markdown",
      "metadata": {
        "id": "zk3OZ5XJ2oMw"
      },
      "source": [
        "### **Padding Sequences**"
      ]
    },
    {
      "cell_type": "code",
      "execution_count": 26,
      "metadata": {
        "id": "UoZcmyiHEjoM"
      },
      "outputs": [],
      "source": [
        "max_length = max(len(x) for x in sequences)\n",
        "padded_sequences = pad_sequences(sequences, maxlen=max_length, padding='post')\n"
      ]
    },
    {
      "cell_type": "markdown",
      "metadata": {
        "id": "4bZrUVpF28Af"
      },
      "source": [
        "### **Encoding the Labels and Converting them to Categorical**"
      ]
    },
    {
      "cell_type": "code",
      "execution_count": 27,
      "metadata": {
        "id": "w_d4_fyTEjh-"
      },
      "outputs": [],
      "source": [
        "# Encoding the labels\n",
        "label_encoder_disease = LabelEncoder()\n",
        "label_encoder_prescription = LabelEncoder()\n",
        "\n",
        "disease_labels = label_encoder_disease.fit_transform(data['Disease'])\n",
        "prescription_labels = label_encoder_prescription.fit_transform(data['Prescription'])\n",
        "\n",
        "# Converting labels to categorical\n",
        "disease_labels_categorical = to_categorical(disease_labels)\n",
        "prescription_labels_categorical = to_categorical(prescription_labels)\n"
      ]
    },
    {
      "cell_type": "markdown",
      "metadata": {
        "id": "h0WJE_0f3CM0"
      },
      "source": [
        "### **Combining Labels into a Multi-label Target Variable**"
      ]
    },
    {
      "cell_type": "code",
      "execution_count": 28,
      "metadata": {
        "id": "J8CuS03CEwAf"
      },
      "outputs": [],
      "source": [
        "Y = np.hstack((disease_labels_categorical, prescription_labels_categorical))\n"
      ]
    },
    {
      "cell_type": "markdown",
      "metadata": {
        "id": "aHhsxOVe3L07"
      },
      "source": [
        "### **Defining Model Architecture**"
      ]
    },
    {
      "cell_type": "code",
      "execution_count": 29,
      "metadata": {
        "id": "8tiB8w5JEv6h"
      },
      "outputs": [],
      "source": [
        "input_layer = Input(shape=(max_length,))\n",
        "\n",
        "embedding = Embedding(input_dim=5000, output_dim=64)(input_layer)\n",
        "lstm_layer = LSTM(64)(embedding)\n",
        "\n",
        "disease_output = Dense(len(label_encoder_disease.classes_), activation='softmax',\n",
        "name='disease_output')(lstm_layer)\n",
        "\n",
        "prescription_output = Dense(len(label_encoder_prescription.classes_),\n",
        "activation='softmax', name='prescription_output')(lstm_layer)\n"
      ]
    },
    {
      "cell_type": "markdown",
      "metadata": {
        "id": "E7fNOW493SCJ"
      },
      "source": [
        "### **Compiling the model**"
      ]
    },
    {
      "cell_type": "code",
      "execution_count": 30,
      "metadata": {
        "colab": {
          "base_uri": "https://localhost:8080/"
        },
        "id": "tRbL9hyDEv0k",
        "outputId": "17c14dec-017c-46df-a412-0b412e60200d"
      },
      "outputs": [
        {
          "output_type": "stream",
          "name": "stdout",
          "text": [
            "Model: \"model_4\"\n",
            "__________________________________________________________________________________________________\n",
            " Layer (type)                Output Shape                 Param #   Connected to                  \n",
            "==================================================================================================\n",
            " input_5 (InputLayer)        [(None, 17)]                 0         []                            \n",
            "                                                                                                  \n",
            " embedding_4 (Embedding)     (None, 17, 64)               320000    ['input_5[0][0]']             \n",
            "                                                                                                  \n",
            " lstm_4 (LSTM)               (None, 64)                   33024     ['embedding_4[0][0]']         \n",
            "                                                                                                  \n",
            " disease_output (Dense)      (None, 178)                  11570     ['lstm_4[0][0]']              \n",
            "                                                                                                  \n",
            " prescription_output (Dense  (None, 388)                  25220     ['lstm_4[0][0]']              \n",
            " )                                                                                                \n",
            "                                                                                                  \n",
            "==================================================================================================\n",
            "Total params: 389814 (1.49 MB)\n",
            "Trainable params: 389814 (1.49 MB)\n",
            "Non-trainable params: 0 (0.00 Byte)\n",
            "__________________________________________________________________________________________________\n"
          ]
        }
      ],
      "source": [
        "model = Model(inputs=input_layer, outputs=[disease_output, prescription_output])\n",
        "\n",
        "model.compile(\n",
        "    loss={'disease_output': 'categorical_crossentropy',\n",
        "    'prescription_output': 'categorical_crossentropy'},\n",
        "    optimizer='adam',\n",
        "    metrics={'disease_output': ['accuracy'], 'prescription_output': ['accuracy']}\n",
        ")\n",
        "\n",
        "model.summary()\n"
      ]
    },
    {
      "cell_type": "markdown",
      "metadata": {
        "id": "hiV7ba5I3YwH"
      },
      "source": [
        "### **Training the model**"
      ]
    },
    {
      "cell_type": "code",
      "execution_count": 31,
      "metadata": {
        "colab": {
          "base_uri": "https://localhost:8080/"
        },
        "id": "rz-D4qKdEvuR",
        "outputId": "e1f5e8c6-996d-44e8-e0aa-4d760a7ef27b"
      },
      "outputs": [
        {
          "output_type": "stream",
          "name": "stdout",
          "text": [
            "Epoch 1/200\n",
            "13/13 [==============================] - 4s 31ms/step - loss: 11.1448 - disease_output_loss: 5.1792 - prescription_output_loss: 5.9656 - disease_output_accuracy: 0.0074 - prescription_output_accuracy: 0.0000e+00\n",
            "Epoch 2/200\n",
            "13/13 [==============================] - 0s 30ms/step - loss: 11.1237 - disease_output_loss: 5.1610 - prescription_output_loss: 5.9628 - disease_output_accuracy: 0.0246 - prescription_output_accuracy: 0.0025\n",
            "Epoch 3/200\n",
            "13/13 [==============================] - 0s 31ms/step - loss: 11.0722 - disease_output_loss: 5.1032 - prescription_output_loss: 5.9690 - disease_output_accuracy: 0.0319 - prescription_output_accuracy: 0.0025\n",
            "Epoch 4/200\n",
            "13/13 [==============================] - 0s 28ms/step - loss: 10.9706 - disease_output_loss: 4.9638 - prescription_output_loss: 6.0069 - disease_output_accuracy: 0.0319 - prescription_output_accuracy: 0.0147\n",
            "Epoch 5/200\n",
            "13/13 [==============================] - 0s 18ms/step - loss: 10.8361 - disease_output_loss: 4.8848 - prescription_output_loss: 5.9513 - disease_output_accuracy: 0.0319 - prescription_output_accuracy: 0.0147\n",
            "Epoch 6/200\n",
            "13/13 [==============================] - 0s 20ms/step - loss: 10.6730 - disease_output_loss: 4.7640 - prescription_output_loss: 5.9090 - disease_output_accuracy: 0.0344 - prescription_output_accuracy: 0.0147\n",
            "Epoch 7/200\n",
            "13/13 [==============================] - 0s 19ms/step - loss: 10.5211 - disease_output_loss: 4.6611 - prescription_output_loss: 5.8600 - disease_output_accuracy: 0.0369 - prescription_output_accuracy: 0.0147\n",
            "Epoch 8/200\n",
            "13/13 [==============================] - 0s 18ms/step - loss: 10.3748 - disease_output_loss: 4.5767 - prescription_output_loss: 5.7980 - disease_output_accuracy: 0.0393 - prescription_output_accuracy: 0.0172\n",
            "Epoch 9/200\n",
            "13/13 [==============================] - 0s 18ms/step - loss: 10.1945 - disease_output_loss: 4.4754 - prescription_output_loss: 5.7191 - disease_output_accuracy: 0.0393 - prescription_output_accuracy: 0.0197\n",
            "Epoch 10/200\n",
            "13/13 [==============================] - 0s 20ms/step - loss: 10.0116 - disease_output_loss: 4.3708 - prescription_output_loss: 5.6408 - disease_output_accuracy: 0.0565 - prescription_output_accuracy: 0.0221\n",
            "Epoch 11/200\n",
            "13/13 [==============================] - 0s 18ms/step - loss: 9.8036 - disease_output_loss: 4.2633 - prescription_output_loss: 5.5403 - disease_output_accuracy: 0.0639 - prescription_output_accuracy: 0.0221\n",
            "Epoch 12/200\n",
            "13/13 [==============================] - 0s 18ms/step - loss: 9.5986 - disease_output_loss: 4.1601 - prescription_output_loss: 5.4385 - disease_output_accuracy: 0.0762 - prescription_output_accuracy: 0.0270\n",
            "Epoch 13/200\n",
            "13/13 [==============================] - 0s 18ms/step - loss: 9.3908 - disease_output_loss: 4.0470 - prescription_output_loss: 5.3438 - disease_output_accuracy: 0.0786 - prescription_output_accuracy: 0.0270\n",
            "Epoch 14/200\n",
            "13/13 [==============================] - 0s 19ms/step - loss: 9.1924 - disease_output_loss: 3.9446 - prescription_output_loss: 5.2479 - disease_output_accuracy: 0.1179 - prescription_output_accuracy: 0.0295\n",
            "Epoch 15/200\n",
            "13/13 [==============================] - 0s 19ms/step - loss: 9.0102 - disease_output_loss: 3.8452 - prescription_output_loss: 5.1650 - disease_output_accuracy: 0.1351 - prescription_output_accuracy: 0.0295\n",
            "Epoch 16/200\n",
            "13/13 [==============================] - 0s 18ms/step - loss: 8.8298 - disease_output_loss: 3.7560 - prescription_output_loss: 5.0739 - disease_output_accuracy: 0.1327 - prescription_output_accuracy: 0.0369\n",
            "Epoch 17/200\n",
            "13/13 [==============================] - 0s 19ms/step - loss: 8.6635 - disease_output_loss: 3.6767 - prescription_output_loss: 4.9868 - disease_output_accuracy: 0.1376 - prescription_output_accuracy: 0.0369\n",
            "Epoch 18/200\n",
            "13/13 [==============================] - 0s 20ms/step - loss: 8.4948 - disease_output_loss: 3.5861 - prescription_output_loss: 4.9087 - disease_output_accuracy: 0.1646 - prescription_output_accuracy: 0.0369\n",
            "Epoch 19/200\n",
            "13/13 [==============================] - 0s 18ms/step - loss: 8.4022 - disease_output_loss: 3.5491 - prescription_output_loss: 4.8531 - disease_output_accuracy: 0.1597 - prescription_output_accuracy: 0.0418\n",
            "Epoch 20/200\n",
            "13/13 [==============================] - 0s 18ms/step - loss: 8.2447 - disease_output_loss: 3.4681 - prescription_output_loss: 4.7766 - disease_output_accuracy: 0.1744 - prescription_output_accuracy: 0.0418\n",
            "Epoch 21/200\n",
            "13/13 [==============================] - 0s 17ms/step - loss: 8.1562 - disease_output_loss: 3.4416 - prescription_output_loss: 4.7146 - disease_output_accuracy: 0.1548 - prescription_output_accuracy: 0.0491\n",
            "Epoch 22/200\n",
            "13/13 [==============================] - 0s 20ms/step - loss: 7.9822 - disease_output_loss: 3.3421 - prescription_output_loss: 4.6401 - disease_output_accuracy: 0.1794 - prescription_output_accuracy: 0.0467\n",
            "Epoch 23/200\n",
            "13/13 [==============================] - 0s 18ms/step - loss: 7.8594 - disease_output_loss: 3.2791 - prescription_output_loss: 4.5802 - disease_output_accuracy: 0.1818 - prescription_output_accuracy: 0.0541\n",
            "Epoch 24/200\n",
            "13/13 [==============================] - 0s 17ms/step - loss: 7.7545 - disease_output_loss: 3.2322 - prescription_output_loss: 4.5222 - disease_output_accuracy: 0.1990 - prescription_output_accuracy: 0.0541\n",
            "Epoch 25/200\n",
            "13/13 [==============================] - 0s 17ms/step - loss: 7.6414 - disease_output_loss: 3.1789 - prescription_output_loss: 4.4626 - disease_output_accuracy: 0.2187 - prescription_output_accuracy: 0.0565\n",
            "Epoch 26/200\n",
            "13/13 [==============================] - 0s 17ms/step - loss: 7.4979 - disease_output_loss: 3.1132 - prescription_output_loss: 4.3847 - disease_output_accuracy: 0.2138 - prescription_output_accuracy: 0.0663\n",
            "Epoch 27/200\n",
            "13/13 [==============================] - 0s 18ms/step - loss: 7.3698 - disease_output_loss: 3.0460 - prescription_output_loss: 4.3237 - disease_output_accuracy: 0.2359 - prescription_output_accuracy: 0.0565\n",
            "Epoch 28/200\n",
            "13/13 [==============================] - 0s 17ms/step - loss: 7.2483 - disease_output_loss: 2.9846 - prescription_output_loss: 4.2637 - disease_output_accuracy: 0.2432 - prescription_output_accuracy: 0.0737\n",
            "Epoch 29/200\n",
            "13/13 [==============================] - 0s 18ms/step - loss: 7.1534 - disease_output_loss: 2.9474 - prescription_output_loss: 4.2060 - disease_output_accuracy: 0.2334 - prescription_output_accuracy: 0.0713\n",
            "Epoch 30/200\n",
            "13/13 [==============================] - 0s 17ms/step - loss: 7.1095 - disease_output_loss: 2.9317 - prescription_output_loss: 4.1778 - disease_output_accuracy: 0.2359 - prescription_output_accuracy: 0.0811\n",
            "Epoch 31/200\n",
            "13/13 [==============================] - 0s 19ms/step - loss: 7.0267 - disease_output_loss: 2.8930 - prescription_output_loss: 4.1336 - disease_output_accuracy: 0.2383 - prescription_output_accuracy: 0.0786\n",
            "Epoch 32/200\n",
            "13/13 [==============================] - 0s 18ms/step - loss: 6.9241 - disease_output_loss: 2.8439 - prescription_output_loss: 4.0802 - disease_output_accuracy: 0.2359 - prescription_output_accuracy: 0.0786\n",
            "Epoch 33/200\n",
            "13/13 [==============================] - 0s 19ms/step - loss: 6.8392 - disease_output_loss: 2.7972 - prescription_output_loss: 4.0420 - disease_output_accuracy: 0.2727 - prescription_output_accuracy: 0.0885\n",
            "Epoch 34/200\n",
            "13/13 [==============================] - 0s 17ms/step - loss: 6.7553 - disease_output_loss: 2.7503 - prescription_output_loss: 4.0050 - disease_output_accuracy: 0.2482 - prescription_output_accuracy: 0.1032\n",
            "Epoch 35/200\n",
            "13/13 [==============================] - 0s 20ms/step - loss: 6.7012 - disease_output_loss: 2.7473 - prescription_output_loss: 3.9540 - disease_output_accuracy: 0.2580 - prescription_output_accuracy: 0.1155\n",
            "Epoch 36/200\n",
            "13/13 [==============================] - 0s 17ms/step - loss: 6.6971 - disease_output_loss: 2.7419 - prescription_output_loss: 3.9552 - disease_output_accuracy: 0.2457 - prescription_output_accuracy: 0.0983\n",
            "Epoch 37/200\n",
            "13/13 [==============================] - 0s 17ms/step - loss: 6.4971 - disease_output_loss: 2.6464 - prescription_output_loss: 3.8507 - disease_output_accuracy: 0.2850 - prescription_output_accuracy: 0.1179\n",
            "Epoch 38/200\n",
            "13/13 [==============================] - 0s 19ms/step - loss: 6.4247 - disease_output_loss: 2.6055 - prescription_output_loss: 3.8192 - disease_output_accuracy: 0.2801 - prescription_output_accuracy: 0.1499\n",
            "Epoch 39/200\n",
            "13/13 [==============================] - 0s 19ms/step - loss: 6.3256 - disease_output_loss: 2.5592 - prescription_output_loss: 3.7664 - disease_output_accuracy: 0.3145 - prescription_output_accuracy: 0.1548\n",
            "Epoch 40/200\n",
            "13/13 [==============================] - 0s 17ms/step - loss: 6.2097 - disease_output_loss: 2.5038 - prescription_output_loss: 3.7059 - disease_output_accuracy: 0.3292 - prescription_output_accuracy: 0.1622\n",
            "Epoch 41/200\n",
            "13/13 [==============================] - 0s 17ms/step - loss: 6.1544 - disease_output_loss: 2.4712 - prescription_output_loss: 3.6832 - disease_output_accuracy: 0.3415 - prescription_output_accuracy: 0.1499\n",
            "Epoch 42/200\n",
            "13/13 [==============================] - 0s 18ms/step - loss: 6.0893 - disease_output_loss: 2.4397 - prescription_output_loss: 3.6496 - disease_output_accuracy: 0.3464 - prescription_output_accuracy: 0.1523\n",
            "Epoch 43/200\n",
            "13/13 [==============================] - 0s 18ms/step - loss: 6.0029 - disease_output_loss: 2.3958 - prescription_output_loss: 3.6070 - disease_output_accuracy: 0.3563 - prescription_output_accuracy: 0.1597\n",
            "Epoch 44/200\n",
            "13/13 [==============================] - 0s 18ms/step - loss: 5.9486 - disease_output_loss: 2.3824 - prescription_output_loss: 3.5662 - disease_output_accuracy: 0.3538 - prescription_output_accuracy: 0.1646\n",
            "Epoch 45/200\n",
            "13/13 [==============================] - 0s 24ms/step - loss: 5.8795 - disease_output_loss: 2.3440 - prescription_output_loss: 3.5356 - disease_output_accuracy: 0.3735 - prescription_output_accuracy: 0.1990\n",
            "Epoch 46/200\n",
            "13/13 [==============================] - 0s 29ms/step - loss: 5.7896 - disease_output_loss: 2.2948 - prescription_output_loss: 3.4948 - disease_output_accuracy: 0.4128 - prescription_output_accuracy: 0.1990\n",
            "Epoch 47/200\n",
            "13/13 [==============================] - 0s 30ms/step - loss: 5.7320 - disease_output_loss: 2.2717 - prescription_output_loss: 3.4603 - disease_output_accuracy: 0.4054 - prescription_output_accuracy: 0.1769\n",
            "Epoch 48/200\n",
            "13/13 [==============================] - 0s 27ms/step - loss: 5.6569 - disease_output_loss: 2.2350 - prescription_output_loss: 3.4218 - disease_output_accuracy: 0.4103 - prescription_output_accuracy: 0.2015\n",
            "Epoch 49/200\n",
            "13/13 [==============================] - 0s 27ms/step - loss: 5.5925 - disease_output_loss: 2.2065 - prescription_output_loss: 3.3859 - disease_output_accuracy: 0.4349 - prescription_output_accuracy: 0.2015\n",
            "Epoch 50/200\n",
            "13/13 [==============================] - 0s 27ms/step - loss: 5.5138 - disease_output_loss: 2.1787 - prescription_output_loss: 3.3351 - disease_output_accuracy: 0.4447 - prescription_output_accuracy: 0.2310\n",
            "Epoch 51/200\n",
            "13/13 [==============================] - 0s 28ms/step - loss: 5.4655 - disease_output_loss: 2.1460 - prescription_output_loss: 3.3195 - disease_output_accuracy: 0.4275 - prescription_output_accuracy: 0.2408\n",
            "Epoch 52/200\n",
            "13/13 [==============================] - 0s 29ms/step - loss: 5.4003 - disease_output_loss: 2.1199 - prescription_output_loss: 3.2804 - disease_output_accuracy: 0.4570 - prescription_output_accuracy: 0.2359\n",
            "Epoch 53/200\n",
            "13/13 [==============================] - 0s 29ms/step - loss: 5.3504 - disease_output_loss: 2.0928 - prescription_output_loss: 3.2576 - disease_output_accuracy: 0.4423 - prescription_output_accuracy: 0.2310\n",
            "Epoch 54/200\n",
            "13/13 [==============================] - 0s 30ms/step - loss: 5.2990 - disease_output_loss: 2.0686 - prescription_output_loss: 3.2304 - disease_output_accuracy: 0.4472 - prescription_output_accuracy: 0.2629\n",
            "Epoch 55/200\n",
            "13/13 [==============================] - 0s 33ms/step - loss: 5.2013 - disease_output_loss: 2.0142 - prescription_output_loss: 3.1871 - disease_output_accuracy: 0.4693 - prescription_output_accuracy: 0.2506\n",
            "Epoch 56/200\n",
            "13/13 [==============================] - 0s 20ms/step - loss: 5.1901 - disease_output_loss: 2.0260 - prescription_output_loss: 3.1641 - disease_output_accuracy: 0.4668 - prescription_output_accuracy: 0.2654\n",
            "Epoch 57/200\n",
            "13/13 [==============================] - 0s 17ms/step - loss: 5.1282 - disease_output_loss: 1.9932 - prescription_output_loss: 3.1350 - disease_output_accuracy: 0.4668 - prescription_output_accuracy: 0.2727\n",
            "Epoch 58/200\n",
            "13/13 [==============================] - 0s 31ms/step - loss: 5.1096 - disease_output_loss: 1.9863 - prescription_output_loss: 3.1233 - disease_output_accuracy: 0.4914 - prescription_output_accuracy: 0.2850\n",
            "Epoch 59/200\n",
            "13/13 [==============================] - 1s 40ms/step - loss: 5.1780 - disease_output_loss: 2.0247 - prescription_output_loss: 3.1533 - disease_output_accuracy: 0.4742 - prescription_output_accuracy: 0.2678\n",
            "Epoch 60/200\n",
            "13/13 [==============================] - 0s 18ms/step - loss: 5.0610 - disease_output_loss: 1.9676 - prescription_output_loss: 3.0934 - disease_output_accuracy: 0.4693 - prescription_output_accuracy: 0.2875\n",
            "Epoch 61/200\n",
            "13/13 [==============================] - 0s 19ms/step - loss: 4.9366 - disease_output_loss: 1.9018 - prescription_output_loss: 3.0348 - disease_output_accuracy: 0.5061 - prescription_output_accuracy: 0.2850\n",
            "Epoch 62/200\n",
            "13/13 [==============================] - 0s 19ms/step - loss: 4.8715 - disease_output_loss: 1.8673 - prescription_output_loss: 3.0042 - disease_output_accuracy: 0.5061 - prescription_output_accuracy: 0.2776\n",
            "Epoch 63/200\n",
            "13/13 [==============================] - 0s 18ms/step - loss: 4.7899 - disease_output_loss: 1.8334 - prescription_output_loss: 2.9565 - disease_output_accuracy: 0.5135 - prescription_output_accuracy: 0.3170\n",
            "Epoch 64/200\n",
            "13/13 [==============================] - 0s 19ms/step - loss: 4.7030 - disease_output_loss: 1.7958 - prescription_output_loss: 2.9072 - disease_output_accuracy: 0.5455 - prescription_output_accuracy: 0.3514\n",
            "Epoch 65/200\n",
            "13/13 [==============================] - 0s 20ms/step - loss: 4.6194 - disease_output_loss: 1.7526 - prescription_output_loss: 2.8668 - disease_output_accuracy: 0.5455 - prescription_output_accuracy: 0.3464\n",
            "Epoch 66/200\n",
            "13/13 [==============================] - 0s 19ms/step - loss: 4.6332 - disease_output_loss: 1.7606 - prescription_output_loss: 2.8726 - disease_output_accuracy: 0.5430 - prescription_output_accuracy: 0.3636\n",
            "Epoch 67/200\n",
            "13/13 [==============================] - 0s 19ms/step - loss: 4.7102 - disease_output_loss: 1.8138 - prescription_output_loss: 2.8963 - disease_output_accuracy: 0.5233 - prescription_output_accuracy: 0.3538\n",
            "Epoch 68/200\n",
            "13/13 [==============================] - 0s 19ms/step - loss: 4.6441 - disease_output_loss: 1.7739 - prescription_output_loss: 2.8702 - disease_output_accuracy: 0.5209 - prescription_output_accuracy: 0.3489\n",
            "Epoch 69/200\n",
            "13/13 [==============================] - 0s 19ms/step - loss: 4.5948 - disease_output_loss: 1.7437 - prescription_output_loss: 2.8511 - disease_output_accuracy: 0.5553 - prescription_output_accuracy: 0.3415\n",
            "Epoch 70/200\n",
            "13/13 [==============================] - 0s 18ms/step - loss: 4.6230 - disease_output_loss: 1.7631 - prescription_output_loss: 2.8599 - disease_output_accuracy: 0.5332 - prescription_output_accuracy: 0.3120\n",
            "Epoch 71/200\n",
            "13/13 [==============================] - 0s 18ms/step - loss: 4.5348 - disease_output_loss: 1.7256 - prescription_output_loss: 2.8092 - disease_output_accuracy: 0.5455 - prescription_output_accuracy: 0.3366\n",
            "Epoch 72/200\n",
            "13/13 [==============================] - 0s 18ms/step - loss: 4.4881 - disease_output_loss: 1.6956 - prescription_output_loss: 2.7926 - disease_output_accuracy: 0.5381 - prescription_output_accuracy: 0.3464\n",
            "Epoch 73/200\n",
            "13/13 [==============================] - 0s 21ms/step - loss: 4.4021 - disease_output_loss: 1.6590 - prescription_output_loss: 2.7431 - disease_output_accuracy: 0.5725 - prescription_output_accuracy: 0.3710\n",
            "Epoch 74/200\n",
            "13/13 [==============================] - 0s 19ms/step - loss: 4.4706 - disease_output_loss: 1.6985 - prescription_output_loss: 2.7721 - disease_output_accuracy: 0.5577 - prescription_output_accuracy: 0.3563\n",
            "Epoch 75/200\n",
            "13/13 [==============================] - 0s 19ms/step - loss: 4.5239 - disease_output_loss: 1.7381 - prescription_output_loss: 2.7857 - disease_output_accuracy: 0.5111 - prescription_output_accuracy: 0.3342\n",
            "Epoch 76/200\n",
            "13/13 [==============================] - 0s 19ms/step - loss: 4.4090 - disease_output_loss: 1.6849 - prescription_output_loss: 2.7241 - disease_output_accuracy: 0.5233 - prescription_output_accuracy: 0.3587\n",
            "Epoch 77/200\n",
            "13/13 [==============================] - 0s 20ms/step - loss: 4.2913 - disease_output_loss: 1.6110 - prescription_output_loss: 2.6803 - disease_output_accuracy: 0.5627 - prescription_output_accuracy: 0.3391\n",
            "Epoch 78/200\n",
            "13/13 [==============================] - 0s 19ms/step - loss: 4.1746 - disease_output_loss: 1.5564 - prescription_output_loss: 2.6181 - disease_output_accuracy: 0.5921 - prescription_output_accuracy: 0.4005\n",
            "Epoch 79/200\n",
            "13/13 [==============================] - 0s 19ms/step - loss: 4.1246 - disease_output_loss: 1.5348 - prescription_output_loss: 2.5898 - disease_output_accuracy: 0.6167 - prescription_output_accuracy: 0.3833\n",
            "Epoch 80/200\n",
            "13/13 [==============================] - 0s 19ms/step - loss: 4.0559 - disease_output_loss: 1.4952 - prescription_output_loss: 2.5607 - disease_output_accuracy: 0.6192 - prescription_output_accuracy: 0.3931\n",
            "Epoch 81/200\n",
            "13/13 [==============================] - 0s 20ms/step - loss: 4.0122 - disease_output_loss: 1.4779 - prescription_output_loss: 2.5343 - disease_output_accuracy: 0.6192 - prescription_output_accuracy: 0.4201\n",
            "Epoch 82/200\n",
            "13/13 [==============================] - 0s 20ms/step - loss: 3.9588 - disease_output_loss: 1.4518 - prescription_output_loss: 2.5069 - disease_output_accuracy: 0.6437 - prescription_output_accuracy: 0.4201\n",
            "Epoch 83/200\n",
            "13/13 [==============================] - 0s 19ms/step - loss: 3.8805 - disease_output_loss: 1.4223 - prescription_output_loss: 2.4582 - disease_output_accuracy: 0.6560 - prescription_output_accuracy: 0.4423\n",
            "Epoch 84/200\n",
            "13/13 [==============================] - 0s 19ms/step - loss: 3.8378 - disease_output_loss: 1.3924 - prescription_output_loss: 2.4454 - disease_output_accuracy: 0.6511 - prescription_output_accuracy: 0.4496\n",
            "Epoch 85/200\n",
            "13/13 [==============================] - 0s 20ms/step - loss: 3.7848 - disease_output_loss: 1.3705 - prescription_output_loss: 2.4142 - disease_output_accuracy: 0.6732 - prescription_output_accuracy: 0.4472\n",
            "Epoch 86/200\n",
            "13/13 [==============================] - 0s 19ms/step - loss: 3.7461 - disease_output_loss: 1.3526 - prescription_output_loss: 2.3935 - disease_output_accuracy: 0.6806 - prescription_output_accuracy: 0.4570\n",
            "Epoch 87/200\n",
            "13/13 [==============================] - 0s 18ms/step - loss: 3.6896 - disease_output_loss: 1.3238 - prescription_output_loss: 2.3658 - disease_output_accuracy: 0.6830 - prescription_output_accuracy: 0.4939\n",
            "Epoch 88/200\n",
            "13/13 [==============================] - 0s 19ms/step - loss: 3.6213 - disease_output_loss: 1.2908 - prescription_output_loss: 2.3305 - disease_output_accuracy: 0.6978 - prescription_output_accuracy: 0.4840\n",
            "Epoch 89/200\n",
            "13/13 [==============================] - 0s 19ms/step - loss: 3.5839 - disease_output_loss: 1.2700 - prescription_output_loss: 2.3139 - disease_output_accuracy: 0.7174 - prescription_output_accuracy: 0.4963\n",
            "Epoch 90/200\n",
            "13/13 [==============================] - 0s 19ms/step - loss: 3.5416 - disease_output_loss: 1.2512 - prescription_output_loss: 2.2904 - disease_output_accuracy: 0.7469 - prescription_output_accuracy: 0.5135\n",
            "Epoch 91/200\n",
            "13/13 [==============================] - 0s 19ms/step - loss: 3.4996 - disease_output_loss: 1.2325 - prescription_output_loss: 2.2671 - disease_output_accuracy: 0.7174 - prescription_output_accuracy: 0.5111\n",
            "Epoch 92/200\n",
            "13/13 [==============================] - 0s 20ms/step - loss: 3.4596 - disease_output_loss: 1.2208 - prescription_output_loss: 2.2388 - disease_output_accuracy: 0.7371 - prescription_output_accuracy: 0.5332\n",
            "Epoch 93/200\n",
            "13/13 [==============================] - 0s 27ms/step - loss: 3.4280 - disease_output_loss: 1.2035 - prescription_output_loss: 2.2245 - disease_output_accuracy: 0.7371 - prescription_output_accuracy: 0.5209\n",
            "Epoch 94/200\n",
            "13/13 [==============================] - 0s 30ms/step - loss: 3.3871 - disease_output_loss: 1.1829 - prescription_output_loss: 2.2042 - disease_output_accuracy: 0.7346 - prescription_output_accuracy: 0.5504\n",
            "Epoch 95/200\n",
            "13/13 [==============================] - 0s 28ms/step - loss: 3.3502 - disease_output_loss: 1.1690 - prescription_output_loss: 2.1812 - disease_output_accuracy: 0.7469 - prescription_output_accuracy: 0.5405\n",
            "Epoch 96/200\n",
            "13/13 [==============================] - 0s 27ms/step - loss: 3.3147 - disease_output_loss: 1.1506 - prescription_output_loss: 2.1641 - disease_output_accuracy: 0.7494 - prescription_output_accuracy: 0.5381\n",
            "Epoch 97/200\n",
            "13/13 [==============================] - 0s 28ms/step - loss: 3.2812 - disease_output_loss: 1.1370 - prescription_output_loss: 2.1442 - disease_output_accuracy: 0.7641 - prescription_output_accuracy: 0.5455\n",
            "Epoch 98/200\n",
            "13/13 [==============================] - 0s 27ms/step - loss: 3.2475 - disease_output_loss: 1.1208 - prescription_output_loss: 2.1267 - disease_output_accuracy: 0.7568 - prescription_output_accuracy: 0.5627\n",
            "Epoch 99/200\n",
            "13/13 [==============================] - 0s 30ms/step - loss: 3.2148 - disease_output_loss: 1.1089 - prescription_output_loss: 2.1059 - disease_output_accuracy: 0.7568 - prescription_output_accuracy: 0.5553\n",
            "Epoch 100/200\n",
            "13/13 [==============================] - 0s 30ms/step - loss: 3.1880 - disease_output_loss: 1.0977 - prescription_output_loss: 2.0902 - disease_output_accuracy: 0.7690 - prescription_output_accuracy: 0.5504\n",
            "Epoch 101/200\n",
            "13/13 [==============================] - 0s 29ms/step - loss: 3.1745 - disease_output_loss: 1.0856 - prescription_output_loss: 2.0889 - disease_output_accuracy: 0.7666 - prescription_output_accuracy: 0.5405\n",
            "Epoch 102/200\n",
            "13/13 [==============================] - 0s 35ms/step - loss: 3.1527 - disease_output_loss: 1.0792 - prescription_output_loss: 2.0735 - disease_output_accuracy: 0.7641 - prescription_output_accuracy: 0.5430\n",
            "Epoch 103/200\n",
            "13/13 [==============================] - 0s 29ms/step - loss: 3.1361 - disease_output_loss: 1.0681 - prescription_output_loss: 2.0680 - disease_output_accuracy: 0.7740 - prescription_output_accuracy: 0.5283\n",
            "Epoch 104/200\n",
            "13/13 [==============================] - 0s 20ms/step - loss: 3.1078 - disease_output_loss: 1.0589 - prescription_output_loss: 2.0489 - disease_output_accuracy: 0.7715 - prescription_output_accuracy: 0.5553\n",
            "Epoch 105/200\n",
            "13/13 [==============================] - 0s 19ms/step - loss: 3.0728 - disease_output_loss: 1.0459 - prescription_output_loss: 2.0270 - disease_output_accuracy: 0.7764 - prescription_output_accuracy: 0.5725\n",
            "Epoch 106/200\n",
            "13/13 [==============================] - 0s 20ms/step - loss: 3.0609 - disease_output_loss: 1.0366 - prescription_output_loss: 2.0243 - disease_output_accuracy: 0.7813 - prescription_output_accuracy: 0.5749\n",
            "Epoch 107/200\n",
            "13/13 [==============================] - 0s 18ms/step - loss: 3.0700 - disease_output_loss: 1.0380 - prescription_output_loss: 2.0319 - disease_output_accuracy: 0.7838 - prescription_output_accuracy: 0.5233\n",
            "Epoch 108/200\n",
            "13/13 [==============================] - 0s 21ms/step - loss: 3.1448 - disease_output_loss: 1.0840 - prescription_output_loss: 2.0608 - disease_output_accuracy: 0.7789 - prescription_output_accuracy: 0.5430\n",
            "Epoch 109/200\n",
            "13/13 [==============================] - 0s 20ms/step - loss: 3.2176 - disease_output_loss: 1.1263 - prescription_output_loss: 2.0913 - disease_output_accuracy: 0.7469 - prescription_output_accuracy: 0.5086\n",
            "Epoch 110/200\n",
            "13/13 [==============================] - 0s 19ms/step - loss: 3.1713 - disease_output_loss: 1.0982 - prescription_output_loss: 2.0731 - disease_output_accuracy: 0.7174 - prescription_output_accuracy: 0.5086\n",
            "Epoch 111/200\n",
            "13/13 [==============================] - 0s 19ms/step - loss: 3.2696 - disease_output_loss: 1.1558 - prescription_output_loss: 2.1138 - disease_output_accuracy: 0.7150 - prescription_output_accuracy: 0.4914\n",
            "Epoch 112/200\n",
            "13/13 [==============================] - 0s 21ms/step - loss: 3.3453 - disease_output_loss: 1.1890 - prescription_output_loss: 2.1563 - disease_output_accuracy: 0.7125 - prescription_output_accuracy: 0.4840\n",
            "Epoch 113/200\n",
            "13/13 [==============================] - 0s 20ms/step - loss: 3.3974 - disease_output_loss: 1.2081 - prescription_output_loss: 2.1893 - disease_output_accuracy: 0.6953 - prescription_output_accuracy: 0.4275\n",
            "Epoch 114/200\n",
            "13/13 [==============================] - 0s 20ms/step - loss: 3.5661 - disease_output_loss: 1.3093 - prescription_output_loss: 2.2568 - disease_output_accuracy: 0.6486 - prescription_output_accuracy: 0.4103\n",
            "Epoch 115/200\n",
            "13/13 [==============================] - 0s 20ms/step - loss: 3.4523 - disease_output_loss: 1.2471 - prescription_output_loss: 2.2053 - disease_output_accuracy: 0.6953 - prescription_output_accuracy: 0.4423\n",
            "Epoch 116/200\n",
            "13/13 [==============================] - 0s 20ms/step - loss: 3.4737 - disease_output_loss: 1.2636 - prescription_output_loss: 2.2101 - disease_output_accuracy: 0.6708 - prescription_output_accuracy: 0.4349\n",
            "Epoch 117/200\n",
            "13/13 [==============================] - 0s 20ms/step - loss: 3.4669 - disease_output_loss: 1.2513 - prescription_output_loss: 2.2156 - disease_output_accuracy: 0.6732 - prescription_output_accuracy: 0.4079\n",
            "Epoch 118/200\n",
            "13/13 [==============================] - 0s 19ms/step - loss: 3.4219 - disease_output_loss: 1.2396 - prescription_output_loss: 2.1823 - disease_output_accuracy: 0.6830 - prescription_output_accuracy: 0.4324\n",
            "Epoch 119/200\n",
            "13/13 [==============================] - 0s 19ms/step - loss: 3.6226 - disease_output_loss: 1.3623 - prescription_output_loss: 2.2603 - disease_output_accuracy: 0.6241 - prescription_output_accuracy: 0.4177\n",
            "Epoch 120/200\n",
            "13/13 [==============================] - 0s 20ms/step - loss: 3.6500 - disease_output_loss: 1.3569 - prescription_output_loss: 2.2931 - disease_output_accuracy: 0.6044 - prescription_output_accuracy: 0.4128\n",
            "Epoch 121/200\n",
            "13/13 [==============================] - 0s 19ms/step - loss: 3.4344 - disease_output_loss: 1.2261 - prescription_output_loss: 2.2083 - disease_output_accuracy: 0.6683 - prescription_output_accuracy: 0.4152\n",
            "Epoch 122/200\n",
            "13/13 [==============================] - 0s 20ms/step - loss: 3.3527 - disease_output_loss: 1.2003 - prescription_output_loss: 2.1523 - disease_output_accuracy: 0.7002 - prescription_output_accuracy: 0.4717\n",
            "Epoch 123/200\n",
            "13/13 [==============================] - 0s 18ms/step - loss: 3.1406 - disease_output_loss: 1.0915 - prescription_output_loss: 2.0491 - disease_output_accuracy: 0.7420 - prescription_output_accuracy: 0.4889\n",
            "Epoch 124/200\n",
            "13/13 [==============================] - 0s 20ms/step - loss: 3.0117 - disease_output_loss: 1.0348 - prescription_output_loss: 1.9768 - disease_output_accuracy: 0.7592 - prescription_output_accuracy: 0.5037\n",
            "Epoch 125/200\n",
            "13/13 [==============================] - 0s 19ms/step - loss: 2.8535 - disease_output_loss: 0.9521 - prescription_output_loss: 1.9014 - disease_output_accuracy: 0.7912 - prescription_output_accuracy: 0.5577\n",
            "Epoch 126/200\n",
            "13/13 [==============================] - 0s 19ms/step - loss: 2.7842 - disease_output_loss: 0.9212 - prescription_output_loss: 1.8630 - disease_output_accuracy: 0.7961 - prescription_output_accuracy: 0.5725\n",
            "Epoch 127/200\n",
            "13/13 [==============================] - 0s 18ms/step - loss: 2.7736 - disease_output_loss: 0.9160 - prescription_output_loss: 1.8576 - disease_output_accuracy: 0.8108 - prescription_output_accuracy: 0.5700\n",
            "Epoch 128/200\n",
            "13/13 [==============================] - 0s 20ms/step - loss: 2.7200 - disease_output_loss: 0.8954 - prescription_output_loss: 1.8246 - disease_output_accuracy: 0.8231 - prescription_output_accuracy: 0.5651\n",
            "Epoch 129/200\n",
            "13/13 [==============================] - 0s 20ms/step - loss: 2.7131 - disease_output_loss: 0.8856 - prescription_output_loss: 1.8274 - disease_output_accuracy: 0.8157 - prescription_output_accuracy: 0.5651\n",
            "Epoch 130/200\n",
            "13/13 [==============================] - 0s 19ms/step - loss: 2.6492 - disease_output_loss: 0.8562 - prescription_output_loss: 1.7931 - disease_output_accuracy: 0.8305 - prescription_output_accuracy: 0.5823\n",
            "Epoch 131/200\n",
            "13/13 [==============================] - 0s 19ms/step - loss: 2.6082 - disease_output_loss: 0.8383 - prescription_output_loss: 1.7698 - disease_output_accuracy: 0.8329 - prescription_output_accuracy: 0.5749\n",
            "Epoch 132/200\n",
            "13/13 [==============================] - 0s 20ms/step - loss: 2.6005 - disease_output_loss: 0.8352 - prescription_output_loss: 1.7653 - disease_output_accuracy: 0.8305 - prescription_output_accuracy: 0.5897\n",
            "Epoch 133/200\n",
            "13/13 [==============================] - 0s 21ms/step - loss: 2.5274 - disease_output_loss: 0.8019 - prescription_output_loss: 1.7254 - disease_output_accuracy: 0.8256 - prescription_output_accuracy: 0.5995\n",
            "Epoch 134/200\n",
            "13/13 [==============================] - 0s 19ms/step - loss: 2.4797 - disease_output_loss: 0.7801 - prescription_output_loss: 1.6996 - disease_output_accuracy: 0.8403 - prescription_output_accuracy: 0.6118\n",
            "Epoch 135/200\n",
            "13/13 [==============================] - 0s 20ms/step - loss: 2.4563 - disease_output_loss: 0.7733 - prescription_output_loss: 1.6830 - disease_output_accuracy: 0.8378 - prescription_output_accuracy: 0.6265\n",
            "Epoch 136/200\n",
            "13/13 [==============================] - 0s 19ms/step - loss: 2.4399 - disease_output_loss: 0.7593 - prescription_output_loss: 1.6805 - disease_output_accuracy: 0.8501 - prescription_output_accuracy: 0.5995\n",
            "Epoch 137/200\n",
            "13/13 [==============================] - 0s 19ms/step - loss: 2.4412 - disease_output_loss: 0.7618 - prescription_output_loss: 1.6794 - disease_output_accuracy: 0.8452 - prescription_output_accuracy: 0.5897\n",
            "Epoch 138/200\n",
            "13/13 [==============================] - 0s 19ms/step - loss: 2.3867 - disease_output_loss: 0.7422 - prescription_output_loss: 1.6445 - disease_output_accuracy: 0.8477 - prescription_output_accuracy: 0.6192\n",
            "Epoch 139/200\n",
            "13/13 [==============================] - 0s 20ms/step - loss: 2.3670 - disease_output_loss: 0.7291 - prescription_output_loss: 1.6379 - disease_output_accuracy: 0.8575 - prescription_output_accuracy: 0.6118\n",
            "Epoch 140/200\n",
            "13/13 [==============================] - 0s 19ms/step - loss: 2.4103 - disease_output_loss: 0.7515 - prescription_output_loss: 1.6588 - disease_output_accuracy: 0.8575 - prescription_output_accuracy: 0.6143\n",
            "Epoch 141/200\n",
            "13/13 [==============================] - 0s 21ms/step - loss: 2.4162 - disease_output_loss: 0.7564 - prescription_output_loss: 1.6598 - disease_output_accuracy: 0.8526 - prescription_output_accuracy: 0.5946\n",
            "Epoch 142/200\n",
            "13/13 [==============================] - 0s 30ms/step - loss: 2.4721 - disease_output_loss: 0.7805 - prescription_output_loss: 1.6915 - disease_output_accuracy: 0.8329 - prescription_output_accuracy: 0.5921\n",
            "Epoch 143/200\n",
            "13/13 [==============================] - 0s 30ms/step - loss: 2.4066 - disease_output_loss: 0.7569 - prescription_output_loss: 1.6497 - disease_output_accuracy: 0.8477 - prescription_output_accuracy: 0.5848\n",
            "Epoch 144/200\n",
            "13/13 [==============================] - 0s 28ms/step - loss: 2.3598 - disease_output_loss: 0.7301 - prescription_output_loss: 1.6296 - disease_output_accuracy: 0.8452 - prescription_output_accuracy: 0.5995\n",
            "Epoch 145/200\n",
            "13/13 [==============================] - 0s 28ms/step - loss: 2.2873 - disease_output_loss: 0.6915 - prescription_output_loss: 1.5958 - disease_output_accuracy: 0.8624 - prescription_output_accuracy: 0.6265\n",
            "Epoch 146/200\n",
            "13/13 [==============================] - 0s 29ms/step - loss: 2.2778 - disease_output_loss: 0.6858 - prescription_output_loss: 1.5920 - disease_output_accuracy: 0.8698 - prescription_output_accuracy: 0.6044\n",
            "Epoch 147/200\n",
            "13/13 [==============================] - 0s 31ms/step - loss: 2.2484 - disease_output_loss: 0.6773 - prescription_output_loss: 1.5711 - disease_output_accuracy: 0.8649 - prescription_output_accuracy: 0.6216\n",
            "Epoch 148/200\n",
            "13/13 [==============================] - 0s 31ms/step - loss: 2.2055 - disease_output_loss: 0.6563 - prescription_output_loss: 1.5492 - disease_output_accuracy: 0.8821 - prescription_output_accuracy: 0.6364\n",
            "Epoch 149/200\n",
            "13/13 [==============================] - 0s 29ms/step - loss: 2.1702 - disease_output_loss: 0.6424 - prescription_output_loss: 1.5278 - disease_output_accuracy: 0.8894 - prescription_output_accuracy: 0.6314\n",
            "Epoch 150/200\n",
            "13/13 [==============================] - 0s 30ms/step - loss: 2.1527 - disease_output_loss: 0.6378 - prescription_output_loss: 1.5149 - disease_output_accuracy: 0.8821 - prescription_output_accuracy: 0.6560\n",
            "Epoch 151/200\n",
            "13/13 [==============================] - 0s 33ms/step - loss: 2.1302 - disease_output_loss: 0.6280 - prescription_output_loss: 1.5022 - disease_output_accuracy: 0.8796 - prescription_output_accuracy: 0.6437\n",
            "Epoch 152/200\n",
            "13/13 [==============================] - 0s 29ms/step - loss: 2.1028 - disease_output_loss: 0.6202 - prescription_output_loss: 1.4826 - disease_output_accuracy: 0.8870 - prescription_output_accuracy: 0.6609\n",
            "Epoch 153/200\n",
            "13/13 [==============================] - 0s 19ms/step - loss: 2.0748 - disease_output_loss: 0.6066 - prescription_output_loss: 1.4682 - disease_output_accuracy: 0.8919 - prescription_output_accuracy: 0.6486\n",
            "Epoch 154/200\n",
            "13/13 [==============================] - 0s 21ms/step - loss: 2.0574 - disease_output_loss: 0.5997 - prescription_output_loss: 1.4577 - disease_output_accuracy: 0.8943 - prescription_output_accuracy: 0.6708\n",
            "Epoch 155/200\n",
            "13/13 [==============================] - 0s 19ms/step - loss: 2.0416 - disease_output_loss: 0.5921 - prescription_output_loss: 1.4494 - disease_output_accuracy: 0.8968 - prescription_output_accuracy: 0.6486\n",
            "Epoch 156/200\n",
            "13/13 [==============================] - 0s 20ms/step - loss: 2.0251 - disease_output_loss: 0.5882 - prescription_output_loss: 1.4369 - disease_output_accuracy: 0.8894 - prescription_output_accuracy: 0.6683\n",
            "Epoch 157/200\n",
            "13/13 [==============================] - 0s 19ms/step - loss: 2.0000 - disease_output_loss: 0.5793 - prescription_output_loss: 1.4208 - disease_output_accuracy: 0.9017 - prescription_output_accuracy: 0.6708\n",
            "Epoch 158/200\n",
            "13/13 [==============================] - 0s 21ms/step - loss: 1.9778 - disease_output_loss: 0.5686 - prescription_output_loss: 1.4092 - disease_output_accuracy: 0.9017 - prescription_output_accuracy: 0.6732\n",
            "Epoch 159/200\n",
            "13/13 [==============================] - 0s 19ms/step - loss: 1.9578 - disease_output_loss: 0.5630 - prescription_output_loss: 1.3949 - disease_output_accuracy: 0.9066 - prescription_output_accuracy: 0.6781\n",
            "Epoch 160/200\n",
            "13/13 [==============================] - 0s 20ms/step - loss: 1.9420 - disease_output_loss: 0.5580 - prescription_output_loss: 1.3840 - disease_output_accuracy: 0.9091 - prescription_output_accuracy: 0.6708\n",
            "Epoch 161/200\n",
            "13/13 [==============================] - 0s 20ms/step - loss: 1.9234 - disease_output_loss: 0.5486 - prescription_output_loss: 1.3748 - disease_output_accuracy: 0.9042 - prescription_output_accuracy: 0.6855\n",
            "Epoch 162/200\n",
            "13/13 [==============================] - 0s 20ms/step - loss: 1.9027 - disease_output_loss: 0.5416 - prescription_output_loss: 1.3611 - disease_output_accuracy: 0.9066 - prescription_output_accuracy: 0.6880\n",
            "Epoch 163/200\n",
            "13/13 [==============================] - 0s 19ms/step - loss: 1.8803 - disease_output_loss: 0.5332 - prescription_output_loss: 1.3471 - disease_output_accuracy: 0.9066 - prescription_output_accuracy: 0.7027\n",
            "Epoch 164/200\n",
            "13/13 [==============================] - 0s 19ms/step - loss: 1.8723 - disease_output_loss: 0.5296 - prescription_output_loss: 1.3427 - disease_output_accuracy: 0.9066 - prescription_output_accuracy: 0.7052\n",
            "Epoch 165/200\n",
            "13/13 [==============================] - 0s 20ms/step - loss: 1.8760 - disease_output_loss: 0.5325 - prescription_output_loss: 1.3435 - disease_output_accuracy: 0.9017 - prescription_output_accuracy: 0.6953\n",
            "Epoch 166/200\n",
            "13/13 [==============================] - 0s 20ms/step - loss: 1.9079 - disease_output_loss: 0.5422 - prescription_output_loss: 1.3657 - disease_output_accuracy: 0.9017 - prescription_output_accuracy: 0.6781\n",
            "Epoch 167/200\n",
            "13/13 [==============================] - 0s 19ms/step - loss: 1.9566 - disease_output_loss: 0.5683 - prescription_output_loss: 1.3883 - disease_output_accuracy: 0.8845 - prescription_output_accuracy: 0.6658\n",
            "Epoch 168/200\n",
            "13/13 [==============================] - 0s 19ms/step - loss: 1.9145 - disease_output_loss: 0.5518 - prescription_output_loss: 1.3627 - disease_output_accuracy: 0.8919 - prescription_output_accuracy: 0.6781\n",
            "Epoch 169/200\n",
            "13/13 [==============================] - 0s 21ms/step - loss: 1.9026 - disease_output_loss: 0.5454 - prescription_output_loss: 1.3572 - disease_output_accuracy: 0.8894 - prescription_output_accuracy: 0.6683\n",
            "Epoch 170/200\n",
            "13/13 [==============================] - 0s 19ms/step - loss: 1.8941 - disease_output_loss: 0.5418 - prescription_output_loss: 1.3523 - disease_output_accuracy: 0.8968 - prescription_output_accuracy: 0.6830\n",
            "Epoch 171/200\n",
            "13/13 [==============================] - 0s 20ms/step - loss: 1.8693 - disease_output_loss: 0.5323 - prescription_output_loss: 1.3369 - disease_output_accuracy: 0.8894 - prescription_output_accuracy: 0.6658\n",
            "Epoch 172/200\n",
            "13/13 [==============================] - 0s 20ms/step - loss: 1.8803 - disease_output_loss: 0.5422 - prescription_output_loss: 1.3381 - disease_output_accuracy: 0.8919 - prescription_output_accuracy: 0.6708\n",
            "Epoch 173/200\n",
            "13/13 [==============================] - 0s 21ms/step - loss: 1.8584 - disease_output_loss: 0.5317 - prescription_output_loss: 1.3267 - disease_output_accuracy: 0.8894 - prescription_output_accuracy: 0.6634\n",
            "Epoch 174/200\n",
            "13/13 [==============================] - 0s 19ms/step - loss: 1.8804 - disease_output_loss: 0.5385 - prescription_output_loss: 1.3419 - disease_output_accuracy: 0.8919 - prescription_output_accuracy: 0.6486\n",
            "Epoch 175/200\n",
            "13/13 [==============================] - 0s 19ms/step - loss: 1.8473 - disease_output_loss: 0.5231 - prescription_output_loss: 1.3242 - disease_output_accuracy: 0.8919 - prescription_output_accuracy: 0.6757\n",
            "Epoch 176/200\n",
            "13/13 [==============================] - 0s 20ms/step - loss: 1.9122 - disease_output_loss: 0.5609 - prescription_output_loss: 1.3513 - disease_output_accuracy: 0.8845 - prescription_output_accuracy: 0.6634\n",
            "Epoch 177/200\n",
            "13/13 [==============================] - 0s 20ms/step - loss: 1.9082 - disease_output_loss: 0.5596 - prescription_output_loss: 1.3486 - disease_output_accuracy: 0.8673 - prescription_output_accuracy: 0.6462\n",
            "Epoch 178/200\n",
            "13/13 [==============================] - 0s 20ms/step - loss: 1.8719 - disease_output_loss: 0.5428 - prescription_output_loss: 1.3292 - disease_output_accuracy: 0.8649 - prescription_output_accuracy: 0.6683\n",
            "Epoch 179/200\n",
            "13/13 [==============================] - 0s 20ms/step - loss: 1.9659 - disease_output_loss: 0.5821 - prescription_output_loss: 1.3838 - disease_output_accuracy: 0.8698 - prescription_output_accuracy: 0.6192\n",
            "Epoch 180/200\n",
            "13/13 [==============================] - 0s 21ms/step - loss: 2.0177 - disease_output_loss: 0.6111 - prescription_output_loss: 1.4066 - disease_output_accuracy: 0.8477 - prescription_output_accuracy: 0.6192\n",
            "Epoch 181/200\n",
            "13/13 [==============================] - 0s 21ms/step - loss: 1.9849 - disease_output_loss: 0.5859 - prescription_output_loss: 1.3990 - disease_output_accuracy: 0.8771 - prescription_output_accuracy: 0.6437\n",
            "Epoch 182/200\n",
            "13/13 [==============================] - 0s 20ms/step - loss: 2.0907 - disease_output_loss: 0.6368 - prescription_output_loss: 1.4538 - disease_output_accuracy: 0.8624 - prescription_output_accuracy: 0.5995\n",
            "Epoch 183/200\n",
            "13/13 [==============================] - 0s 20ms/step - loss: 2.0606 - disease_output_loss: 0.6268 - prescription_output_loss: 1.4338 - disease_output_accuracy: 0.8550 - prescription_output_accuracy: 0.6118\n",
            "Epoch 184/200\n",
            "13/13 [==============================] - 0s 21ms/step - loss: 1.9835 - disease_output_loss: 0.6016 - prescription_output_loss: 1.3820 - disease_output_accuracy: 0.8501 - prescription_output_accuracy: 0.6290\n",
            "Epoch 185/200\n",
            "13/13 [==============================] - 0s 22ms/step - loss: 1.9143 - disease_output_loss: 0.5638 - prescription_output_loss: 1.3505 - disease_output_accuracy: 0.8673 - prescription_output_accuracy: 0.6462\n",
            "Epoch 186/200\n",
            "13/13 [==============================] - 0s 20ms/step - loss: 2.0756 - disease_output_loss: 0.6284 - prescription_output_loss: 1.4473 - disease_output_accuracy: 0.8600 - prescription_output_accuracy: 0.6143\n",
            "Epoch 187/200\n",
            "13/13 [==============================] - 0s 21ms/step - loss: 2.0988 - disease_output_loss: 0.6517 - prescription_output_loss: 1.4471 - disease_output_accuracy: 0.8452 - prescription_output_accuracy: 0.6314\n",
            "Epoch 188/200\n",
            "13/13 [==============================] - 0s 22ms/step - loss: 2.1463 - disease_output_loss: 0.6736 - prescription_output_loss: 1.4727 - disease_output_accuracy: 0.8329 - prescription_output_accuracy: 0.5848\n",
            "Epoch 189/200\n",
            "13/13 [==============================] - 0s 26ms/step - loss: 2.1835 - disease_output_loss: 0.6971 - prescription_output_loss: 1.4864 - disease_output_accuracy: 0.8256 - prescription_output_accuracy: 0.6020\n",
            "Epoch 190/200\n",
            "13/13 [==============================] - 0s 29ms/step - loss: 2.0590 - disease_output_loss: 0.6457 - prescription_output_loss: 1.4133 - disease_output_accuracy: 0.8403 - prescription_output_accuracy: 0.6609\n",
            "Epoch 191/200\n",
            "13/13 [==============================] - 0s 31ms/step - loss: 1.9759 - disease_output_loss: 0.5967 - prescription_output_loss: 1.3792 - disease_output_accuracy: 0.8624 - prescription_output_accuracy: 0.6437\n",
            "Epoch 192/200\n",
            "13/13 [==============================] - 0s 30ms/step - loss: 1.9258 - disease_output_loss: 0.5790 - prescription_output_loss: 1.3469 - disease_output_accuracy: 0.8722 - prescription_output_accuracy: 0.6437\n",
            "Epoch 193/200\n",
            "13/13 [==============================] - 0s 28ms/step - loss: 1.8391 - disease_output_loss: 0.5422 - prescription_output_loss: 1.2969 - disease_output_accuracy: 0.8722 - prescription_output_accuracy: 0.6536\n",
            "Epoch 194/200\n",
            "13/13 [==============================] - 0s 30ms/step - loss: 1.7478 - disease_output_loss: 0.5007 - prescription_output_loss: 1.2472 - disease_output_accuracy: 0.8796 - prescription_output_accuracy: 0.6880\n",
            "Epoch 195/200\n",
            "13/13 [==============================] - 0s 30ms/step - loss: 1.7056 - disease_output_loss: 0.4773 - prescription_output_loss: 1.2282 - disease_output_accuracy: 0.8894 - prescription_output_accuracy: 0.6880\n",
            "Epoch 196/200\n",
            "13/13 [==============================] - 0s 31ms/step - loss: 1.6211 - disease_output_loss: 0.4387 - prescription_output_loss: 1.1823 - disease_output_accuracy: 0.9066 - prescription_output_accuracy: 0.6953\n",
            "Epoch 197/200\n",
            "13/13 [==============================] - 0s 30ms/step - loss: 1.5563 - disease_output_loss: 0.4178 - prescription_output_loss: 1.1384 - disease_output_accuracy: 0.9091 - prescription_output_accuracy: 0.7224\n",
            "Epoch 198/200\n",
            "13/13 [==============================] - 0s 30ms/step - loss: 1.5236 - disease_output_loss: 0.4038 - prescription_output_loss: 1.1199 - disease_output_accuracy: 0.9165 - prescription_output_accuracy: 0.6929\n",
            "Epoch 199/200\n",
            "13/13 [==============================] - 0s 30ms/step - loss: 1.5065 - disease_output_loss: 0.3965 - prescription_output_loss: 1.1100 - disease_output_accuracy: 0.9238 - prescription_output_accuracy: 0.7150\n",
            "Epoch 200/200\n",
            "13/13 [==============================] - 0s 30ms/step - loss: 1.4800 - disease_output_loss: 0.3864 - prescription_output_loss: 1.0936 - disease_output_accuracy: 0.9287 - prescription_output_accuracy: 0.7396\n"
          ]
        },
        {
          "output_type": "execute_result",
          "data": {
            "text/plain": [
              "<keras.src.callbacks.History at 0x7f0d90a09a50>"
            ]
          },
          "metadata": {},
          "execution_count": 31
        }
      ],
      "source": [
        "model.fit(padded_sequences, {'disease_output': disease_labels_categorical, 'prescription_output':\n",
        "      prescription_labels_categorical}, epochs=200, batch_size=32) ##100 EPOCHS!!"
      ]
    },
    {
      "cell_type": "markdown",
      "metadata": {
        "id": "dKhyvytN3eoM"
      },
      "source": [
        "### **Making Predictions**"
      ]
    },
    {
      "cell_type": "code",
      "execution_count": 45,
      "metadata": {
        "colab": {
          "base_uri": "https://localhost:8080/"
        },
        "id": "kD_RsZZmE7d1",
        "outputId": "417e170c-762e-46a3-932a-bf8b7657e181"
      },
      "outputs": [
        {
          "output_type": "stream",
          "name": "stdout",
          "text": [
            "1/1 [==============================] - 0s 35ms/step\n",
            "Predicted Disease: Depression\n",
            "Suggested Prescription: Antidepressants; eating nutrient-rich foods.\n"
          ]
        }
      ],
      "source": [
        "def make_prediction(patient_problem):\n",
        "    sequence = tokenizer.texts_to_sequences([patient_problem])\n",
        "    padded_sequence = pad_sequences(sequence, maxlen=max_length, padding='post')\n",
        "\n",
        "    prediction = model.predict(padded_sequence)\n",
        "\n",
        "    disease_index = np.argmax(prediction[0], axis=1)[0]\n",
        "    prescription_index = np.argmax(prediction[1], axis=1)[0]\n",
        "\n",
        "    disease_predicted = label_encoder_disease.inverse_transform([disease_index])[0]\n",
        "    prescription_predicted = label_encoder_prescription.inverse_transform([prescription_index])[0]\n",
        "\n",
        "    print(f\"Predicted Disease: {disease_predicted}\")\n",
        "    print(f\"Suggested Prescription: {prescription_predicted}\")\n",
        "\n",
        "\n",
        "patient_input = \"I've experienced a loss of appetite and don't enjoy food anymore.\"\n",
        "#patient_input = \"I've been experiencing frequent urination with a burning sensation\"\n",
        "#patient_input = \"I've been feeling very down and unmotivated lately, and I have trouble sleeping\"#\n",
        "#patient_input = \"I've been experiencing sharp chest pain on my left side, especially when I take a deep breath\"\n",
        "#patient_input = \"I feel nauseous and have been vomiting several times in the past few hours\"\n",
        "#patient_input = \"I've been experiencing sharp chest pain on my left side, especially when I take a deep breath\"\n",
        "make_prediction(patient_input)\n"
      ]
    },
    {
      "cell_type": "markdown",
      "source": [
        "### **Model Evaluation**"
      ],
      "metadata": {
        "id": "ho1hFVnV2JPL"
      }
    },
    {
      "cell_type": "code",
      "execution_count": 36,
      "metadata": {
        "id": "ZG4UUX-_H8PX",
        "colab": {
          "base_uri": "https://localhost:8080/"
        },
        "outputId": "be0f083d-8de9-4a0b-e7ad-7975ff7958d9"
      },
      "outputs": [
        {
          "output_type": "stream",
          "name": "stdout",
          "text": [
            "13/13 [==============================] - 0s 9ms/step\n",
            "Confusion Matrix for Disease:\n",
            "[[1 0 0 ... 0 0 0]\n",
            " [0 1 0 ... 0 0 0]\n",
            " [0 0 3 ... 0 0 0]\n",
            " ...\n",
            " [0 0 0 ... 2 0 0]\n",
            " [0 0 0 ... 0 1 0]\n",
            " [0 0 0 ... 0 0 2]]\n",
            "\n",
            "Confusion Matrix for Prescription:\n",
            "[[1 0 0 ... 0 0 0]\n",
            " [0 1 0 ... 0 0 0]\n",
            " [0 0 1 ... 0 0 0]\n",
            " ...\n",
            " [0 0 0 ... 1 0 0]\n",
            " [0 0 0 ... 0 1 0]\n",
            " [0 0 0 ... 0 0 1]]\n",
            "\n",
            "Accuracy for Disease: 0.9336609336609336\n",
            "Accuracy for Prescription: 0.7567567567567568\n"
          ]
        }
      ],
      "source": [
        "def evaluate_model():\n",
        "    y_pred = model.predict(padded_sequences)\n",
        "    y_disease_pred = np.argmax(y_pred[0], axis=1)\n",
        "    y_prescription_pred = np.argmax(y_pred[1], axis=1)\n",
        "\n",
        "    #print(\"Classification Report for Disease:\")\n",
        "    #print(classification_report(disease_labels, y_disease_pred, zero_division=0))\n",
        "\n",
        "    print(\"Confusion Matrix for Disease:\")\n",
        "    print(confusion_matrix(disease_labels, y_disease_pred))\n",
        "\n",
        "    #print(\"Classification Report for Prescription:\")\n",
        "    #print(classification_report(prescription_labels, y_prescription_pred, zero_division=0))\n",
        "\n",
        "    print(\"\\nConfusion Matrix for Prescription:\")\n",
        "    print(confusion_matrix(prescription_labels, y_prescription_pred))\n",
        "\n",
        "    # Calculate and print accuracy\n",
        "    accuracy_disease = accuracy_score(disease_labels, y_disease_pred)\n",
        "    accuracy_prescription = accuracy_score(prescription_labels, y_prescription_pred)\n",
        "    print(f\"\\nAccuracy for Disease: {accuracy_disease}\")\n",
        "    print(f\"Accuracy for Prescription: {accuracy_prescription}\")\n",
        "\n",
        "# Run the evaluation\n",
        "evaluate_model()"
      ]
    },
    {
      "cell_type": "markdown",
      "metadata": {
        "id": "TwttfC4V3nI9"
      },
      "source": [
        "### **Gradio Interface for Model Prediction**"
      ]
    },
    {
      "cell_type": "code",
      "execution_count": 41,
      "metadata": {
        "colab": {
          "base_uri": "https://localhost:8080/",
          "height": 633
        },
        "id": "PQEJPb4Wjdoc",
        "outputId": "67e37a61-79e5-4f76-e34f-535ec106fa34"
      },
      "outputs": [
        {
          "output_type": "stream",
          "name": "stdout",
          "text": [
            "Setting queue=True in a Colab notebook requires sharing enabled. Setting `share=True` (you can turn this off by setting `share=False` in `launch()` explicitly).\n",
            "\n",
            "Colab notebook detected. To show errors in colab notebook, set debug=True in launch()\n",
            "Running on public URL: https://2bc105434d0f51dcdf.gradio.live\n",
            "\n",
            "This share link expires in 72 hours. For free permanent hosting and GPU upgrades, run `gradio deploy` from Terminal to deploy to Spaces (https://huggingface.co/spaces)\n"
          ]
        },
        {
          "output_type": "display_data",
          "data": {
            "text/plain": [
              "<IPython.core.display.HTML object>"
            ],
            "text/html": [
              "<div><iframe src=\"https://2bc105434d0f51dcdf.gradio.live\" width=\"100%\" height=\"500\" allow=\"autoplay; camera; microphone; clipboard-read; clipboard-write;\" frameborder=\"0\" allowfullscreen></iframe></div>"
            ]
          },
          "metadata": {}
        },
        {
          "output_type": "execute_result",
          "data": {
            "text/plain": []
          },
          "metadata": {},
          "execution_count": 41
        }
      ],
      "source": [
        "import gradio as gr\n",
        "\n",
        "def make_prediction(patient_problem):\n",
        "    # Preprocessing the input\n",
        "    sequence = tokenizer.texts_to_sequences([patient_problem])\n",
        "    padded_sequence = pad_sequences(sequence, maxlen=max_length, padding='post')\n",
        "\n",
        "    # Making prediction\n",
        "    prediction = model.predict(padded_sequence)\n",
        "\n",
        "    # Decoding the prediction\n",
        "    disease_index = np.argmax(prediction[0], axis=1)[0]\n",
        "    prescription_index = np.argmax(prediction[1], axis=1)[0]\n",
        "\n",
        "    disease_predicted = label_encoder_disease.inverse_transform([disease_index])[0]\n",
        "    prescription_predicted = label_encoder_prescription.inverse_transform([prescription_index])[0]\n",
        "\n",
        "    return disease_predicted, prescription_predicted\n",
        "\n",
        "iface = gr.Interface(\n",
        "    fn=make_prediction,\n",
        "    inputs=gr.Textbox(label=\"Enter Patient's Problem\"),\n",
        "    outputs=[\"text\", \"text\"],\n",
        "    title=\"Medical Diagnoser\",\n",
        "    description=\"Enter the patient's problem and get the predicted disease and suggested prescription.\"\n",
        ")\n",
        "\n",
        "iface.launch()\n"
      ]
    },
    {
      "cell_type": "markdown",
      "metadata": {
        "id": "uVR92qOBNHzr"
      },
      "source": [
        "### **Patient Problem Prompts for Input**\n",
        "\n",
        "Chest Pain: \"I've been experiencing sharp chest pain on my left side, especially when I take a deep breath.\"\n",
        "\n",
        "Skin Rash: \"I have a red, itchy rash that has appeared on my arms and legs over the past few days.\"\n",
        "\n",
        "Fever and Chills: \"I've had a high fever and chills for the past two days, along with feeling very tired.\"\n",
        "\n",
        "Shortness of Breath: \"I'm having trouble catching my breath, even when I'm sitting down and resting.\"\n",
        "\n",
        "Headache and Dizziness: \"I've had a severe headache for the past few hours, and I feel dizzy when I stand up.\"\n",
        "\n",
        "Joint Pain and Stiffness: \"My joints have been feeling stiff and painful, especially in the mornings.\"\n",
        "\n",
        "Urinary Tract Infection (UTI) Symptoms: \"I've been experiencing frequent urination with a burning sensation.\"\n",
        "\n",
        "Stomach Ache and Diarrhea: \"I have a bad stomach ache and have been experiencing frequent diarrhea.\"\n",
        "\n",
        "Vision Problems: \"My vision has become blurry in my right eye over the past few days.\"\n",
        "\n",
        "Mental Health: \"I've been feeling very down and unmotivated lately, and I have trouble sleeping.\"\n",
        "\n",
        "\n",
        "**Respiratory:**\n",
        "\n",
        "Cough: \"I've had a persistent cough for the past week, along with wheezing and difficulty breathing.\"\n",
        "\n",
        "Sore Throat: \"My throat is very sore and painful, especially when I swallow. I also have a headache and feel tired.\"\n",
        "\n",
        "Sinus Congestion: \"I have a stuffy nose and congestion in my sinuses. My face also feels pressure.\"\n",
        "\n",
        "**Cardiovascular:**\n",
        "\n",
        "\n",
        "Palpitations: \"My heart is racing and pounding very fast, even when I'm at rest.\"\n",
        "\n",
        "Chest Tightness: \"I feel a tightness or pressure in my chest, especially when I exert myself.\"\n",
        "\n",
        "Swollen Ankles: \"My ankles are swollen and feel heavy, particularly at the end of the day.\"\n",
        "\n",
        "\n",
        "**Digestive:**\n",
        "\n",
        "Nausea and Vomiting: \"I feel nauseous and have been vomiting several times in the past few hours.\"\n",
        "\n",
        "Heartburn: \"I experience a burning sensation in my chest after eating, especially spicy or fatty foods.\"\n",
        "\n",
        "Constipation: \"I haven't had a bowel movement in several days and feel bloated and uncomfortable.\"\n",
        "\n",
        "\n",
        "**Neurological:**\n",
        "\n",
        "Numbness and Tingling: \"My hands and feet are feeling numb and tingly, and I have a pins-and-needles sensation.\"\n",
        "\n",
        "Seizure: \"I experienced a sudden episode of uncontrolled muscle jerking and loss of consciousness.\"\n",
        "\n",
        "Weakness: \"I feel weak and have difficulty lifting objects or climbing stairs.\"\n",
        "Endocrine:\n",
        "\n",
        "Excessive Thirst: \"I'm constantly thirsty and drink large amounts of fluids, but I still feel dehydrated.\"\n",
        "\n",
        "Fatigue: \"I'm feeling extremely tired and lack energy, even after a good night's sleep.\"\n",
        "\n",
        "Weight Changes: \"I've experienced unexplained weight gain (or loss) recently, despite no changes in my diet or exercise.\"\n",
        "\n",
        "\n",
        "**Allergic:**\n",
        "\n",
        "Food Allergies: \"After eating certain foods, I experience hives, swelling, and difficulty breathing.\"\n",
        "\n",
        "Seasonal Allergies: \"My eyes are itchy and watery, and I have a runny nose during specific seasons.\"\n",
        "\n",
        "Medication Allergies: \"I had a severe reaction (rash, swelling, etc.) after taking a new medication.\"\n",
        "\n",
        "\n",
        "**Mental Health:**\n",
        "\n",
        "Anxiety: \"I feel anxious and on edge most of the time, with racing thoughts and difficulty relaxing.\"\n",
        "\n",
        "Panic Attack: \"I experience sudden episodes of intense fear with shortness of breath, dizziness, and chest pain.\""
      ]
    },
    {
      "cell_type": "code",
      "execution_count": null,
      "metadata": {
        "id": "Y65DrP2aE7VE"
      },
      "outputs": [],
      "source": []
    },
    {
      "cell_type": "code",
      "execution_count": null,
      "metadata": {
        "id": "bUm2pmndE7Rr"
      },
      "outputs": [],
      "source": []
    }
  ],
  "metadata": {
    "colab": {
      "provenance": []
    },
    "kernelspec": {
      "display_name": "Python 3",
      "name": "python3"
    },
    "language_info": {
      "name": "python"
    }
  },
  "nbformat": 4,
  "nbformat_minor": 0
}